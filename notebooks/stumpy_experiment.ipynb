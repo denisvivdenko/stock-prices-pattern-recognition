{
 "cells": [
  {
   "cell_type": "code",
   "execution_count": 3,
   "id": "efda77fb",
   "metadata": {},
   "outputs": [],
   "source": [
    "import stumpy\n",
    "import pandas as pd\n",
    "import numpy as np\n",
    "import matplotlib.pyplot as plt\n",
    "import seaborn as sns\n",
    "import sqlite3"
   ]
  },
  {
   "cell_type": "code",
   "execution_count": 8,
   "id": "df3a22a1",
   "metadata": {},
   "outputs": [],
   "source": [
    "pd.options.display.float_format = \"{:,.4f}\".format\n",
    "np.set_printoptions(suppress=True)"
   ]
  },
  {
   "cell_type": "code",
   "execution_count": 9,
   "id": "07341ea2",
   "metadata": {},
   "outputs": [],
   "source": [
    "connection = sqlite3.connect('../data/GBPUSD.db')\n",
    "df = pd.read_sql_query(\"SELECT * FROM d_2010\", connection, parse_dates=True)"
   ]
  },
  {
   "cell_type": "code",
   "execution_count": 10,
   "id": "1d7951f0",
   "metadata": {},
   "outputs": [
    {
     "data": {
      "text/html": [
       "<div>\n",
       "<style scoped>\n",
       "    .dataframe tbody tr th:only-of-type {\n",
       "        vertical-align: middle;\n",
       "    }\n",
       "\n",
       "    .dataframe tbody tr th {\n",
       "        vertical-align: top;\n",
       "    }\n",
       "\n",
       "    .dataframe thead th {\n",
       "        text-align: right;\n",
       "    }\n",
       "</style>\n",
       "<table border=\"1\" class=\"dataframe\">\n",
       "  <thead>\n",
       "    <tr style=\"text-align: right;\">\n",
       "      <th></th>\n",
       "      <th>pTime</th>\n",
       "      <th>pOpen</th>\n",
       "      <th>pHigh</th>\n",
       "      <th>pLow</th>\n",
       "      <th>pClose</th>\n",
       "      <th>vcOpen</th>\n",
       "      <th>vcHigh</th>\n",
       "      <th>vcLow</th>\n",
       "      <th>vcClose</th>\n",
       "    </tr>\n",
       "  </thead>\n",
       "  <tbody>\n",
       "    <tr>\n",
       "      <th>0</th>\n",
       "      <td>1262304000</td>\n",
       "      <td>1.6176</td>\n",
       "      <td>1.6176</td>\n",
       "      <td>1.6160</td>\n",
       "      <td>1.6170</td>\n",
       "      <td>3.0161</td>\n",
       "      <td>3.0161</td>\n",
       "      <td>-0.8268</td>\n",
       "      <td>1.5204</td>\n",
       "    </tr>\n",
       "    <tr>\n",
       "      <th>1</th>\n",
       "      <td>1262305800</td>\n",
       "      <td>1.6170</td>\n",
       "      <td>1.6170</td>\n",
       "      <td>1.6168</td>\n",
       "      <td>1.6170</td>\n",
       "      <td>1.4076</td>\n",
       "      <td>1.5172</td>\n",
       "      <td>1.0513</td>\n",
       "      <td>1.3254</td>\n",
       "    </tr>\n",
       "    <tr>\n",
       "      <th>2</th>\n",
       "      <td>1262307600</td>\n",
       "      <td>1.6170</td>\n",
       "      <td>1.6170</td>\n",
       "      <td>1.6168</td>\n",
       "      <td>1.6169</td>\n",
       "      <td>1.0475</td>\n",
       "      <td>1.2609</td>\n",
       "      <td>0.7426</td>\n",
       "      <td>0.8950</td>\n",
       "    </tr>\n",
       "    <tr>\n",
       "      <th>3</th>\n",
       "      <td>1262309400</td>\n",
       "      <td>1.6169</td>\n",
       "      <td>1.6170</td>\n",
       "      <td>1.6168</td>\n",
       "      <td>1.6170</td>\n",
       "      <td>1.2147</td>\n",
       "      <td>1.5805</td>\n",
       "      <td>0.9222</td>\n",
       "      <td>1.3976</td>\n",
       "    </tr>\n",
       "    <tr>\n",
       "      <th>4</th>\n",
       "      <td>1262311200</td>\n",
       "      <td>1.6169</td>\n",
       "      <td>1.6171</td>\n",
       "      <td>1.6168</td>\n",
       "      <td>1.6170</td>\n",
       "      <td>1.2407</td>\n",
       "      <td>1.9355</td>\n",
       "      <td>0.9367</td>\n",
       "      <td>1.5012</td>\n",
       "    </tr>\n",
       "  </tbody>\n",
       "</table>\n",
       "</div>"
      ],
      "text/plain": [
       "        pTime  pOpen  pHigh   pLow  pClose  vcOpen  vcHigh   vcLow  vcClose\n",
       "0  1262304000 1.6176 1.6176 1.6160  1.6170  3.0161  3.0161 -0.8268   1.5204\n",
       "1  1262305800 1.6170 1.6170 1.6168  1.6170  1.4076  1.5172  1.0513   1.3254\n",
       "2  1262307600 1.6170 1.6170 1.6168  1.6169  1.0475  1.2609  0.7426   0.8950\n",
       "3  1262309400 1.6169 1.6170 1.6168  1.6170  1.2147  1.5805  0.9222   1.3976\n",
       "4  1262311200 1.6169 1.6171 1.6168  1.6170  1.2407  1.9355  0.9367   1.5012"
      ]
     },
     "execution_count": 10,
     "metadata": {},
     "output_type": "execute_result"
    }
   ],
   "source": [
    "df.head()"
   ]
  },
  {
   "cell_type": "code",
   "execution_count": 11,
   "id": "5e711da3",
   "metadata": {},
   "outputs": [],
   "source": [
    "data = df[['pTime', 'pOpen', 'pHigh', 'pLow', 'pClose']]"
   ]
  },
  {
   "cell_type": "code",
   "execution_count": 12,
   "id": "c9dcca0b",
   "metadata": {},
   "outputs": [],
   "source": [
    "index = data['pTime']\n",
    "data = data.drop('pTime', axis=1)\n",
    "data.index = index"
   ]
  },
  {
   "cell_type": "code",
   "execution_count": 13,
   "id": "db867feb",
   "metadata": {},
   "outputs": [
    {
     "data": {
      "text/html": [
       "<div>\n",
       "<style scoped>\n",
       "    .dataframe tbody tr th:only-of-type {\n",
       "        vertical-align: middle;\n",
       "    }\n",
       "\n",
       "    .dataframe tbody tr th {\n",
       "        vertical-align: top;\n",
       "    }\n",
       "\n",
       "    .dataframe thead th {\n",
       "        text-align: right;\n",
       "    }\n",
       "</style>\n",
       "<table border=\"1\" class=\"dataframe\">\n",
       "  <thead>\n",
       "    <tr style=\"text-align: right;\">\n",
       "      <th></th>\n",
       "      <th>pOpen</th>\n",
       "      <th>pHigh</th>\n",
       "      <th>pLow</th>\n",
       "      <th>pClose</th>\n",
       "    </tr>\n",
       "    <tr>\n",
       "      <th>pTime</th>\n",
       "      <th></th>\n",
       "      <th></th>\n",
       "      <th></th>\n",
       "      <th></th>\n",
       "    </tr>\n",
       "  </thead>\n",
       "  <tbody>\n",
       "    <tr>\n",
       "      <th>1262304000</th>\n",
       "      <td>1.6176</td>\n",
       "      <td>1.6176</td>\n",
       "      <td>1.6160</td>\n",
       "      <td>1.6170</td>\n",
       "    </tr>\n",
       "    <tr>\n",
       "      <th>1262305800</th>\n",
       "      <td>1.6170</td>\n",
       "      <td>1.6170</td>\n",
       "      <td>1.6168</td>\n",
       "      <td>1.6170</td>\n",
       "    </tr>\n",
       "    <tr>\n",
       "      <th>1262307600</th>\n",
       "      <td>1.6170</td>\n",
       "      <td>1.6170</td>\n",
       "      <td>1.6168</td>\n",
       "      <td>1.6169</td>\n",
       "    </tr>\n",
       "    <tr>\n",
       "      <th>1262309400</th>\n",
       "      <td>1.6169</td>\n",
       "      <td>1.6170</td>\n",
       "      <td>1.6168</td>\n",
       "      <td>1.6170</td>\n",
       "    </tr>\n",
       "    <tr>\n",
       "      <th>1262311200</th>\n",
       "      <td>1.6169</td>\n",
       "      <td>1.6171</td>\n",
       "      <td>1.6168</td>\n",
       "      <td>1.6170</td>\n",
       "    </tr>\n",
       "  </tbody>\n",
       "</table>\n",
       "</div>"
      ],
      "text/plain": [
       "            pOpen  pHigh   pLow  pClose\n",
       "pTime                                  \n",
       "1262304000 1.6176 1.6176 1.6160  1.6170\n",
       "1262305800 1.6170 1.6170 1.6168  1.6170\n",
       "1262307600 1.6170 1.6170 1.6168  1.6169\n",
       "1262309400 1.6169 1.6170 1.6168  1.6170\n",
       "1262311200 1.6169 1.6171 1.6168  1.6170"
      ]
     },
     "execution_count": 13,
     "metadata": {},
     "output_type": "execute_result"
    }
   ],
   "source": [
    "data.head()"
   ]
  },
  {
   "cell_type": "code",
   "execution_count": 15,
   "id": "c0478aaa",
   "metadata": {},
   "outputs": [],
   "source": [
    "timeseries = data.mean(axis=1)"
   ]
  },
  {
   "cell_type": "code",
   "execution_count": 16,
   "id": "ddaca582",
   "metadata": {},
   "outputs": [
    {
     "data": {
      "text/plain": [
       "pTime\n",
       "1262304000   1.6170\n",
       "1262305800   1.6169\n",
       "1262307600   1.6169\n",
       "1262309400   1.6169\n",
       "1262311200   1.6169\n",
       "dtype: float64"
      ]
     },
     "execution_count": 16,
     "metadata": {},
     "output_type": "execute_result"
    }
   ],
   "source": [
    "timeseries.head()"
   ]
  },
  {
   "cell_type": "code",
   "execution_count": 21,
   "id": "e4c2f182",
   "metadata": {},
   "outputs": [],
   "source": [
    "timeseries_1k = timeseries[:1000]"
   ]
  },
  {
   "cell_type": "code",
   "execution_count": 22,
   "id": "132c2d81",
   "metadata": {},
   "outputs": [
    {
     "data": {
      "text/plain": [
       "pTime\n",
       "1262304000   1.6170\n",
       "1262305800   1.6169\n",
       "1262307600   1.6169\n",
       "1262309400   1.6169\n",
       "1262311200   1.6169\n",
       "              ...  \n",
       "1264786200   1.6045\n",
       "1264788000   1.6025\n",
       "1264789800   1.6015\n",
       "1264791600   1.6010\n",
       "1264793400   1.6008\n",
       "Length: 1000, dtype: float64"
      ]
     },
     "execution_count": 22,
     "metadata": {},
     "output_type": "execute_result"
    }
   ],
   "source": [
    "timeseries_1k"
   ]
  },
  {
   "cell_type": "code",
   "execution_count": 26,
   "id": "50cc6412",
   "metadata": {},
   "outputs": [
    {
     "data": {
      "image/png": "[encoded data removed]",
      "text/plain": [
       "<Figure size 1080x360 with 1 Axes>"
      ]
     },
     "metadata": {
      "needs_background": "light"
     },
     "output_type": "display_data"
    }
   ],
   "source": [
    "plt.figure(figsize=(15, 5))\n",
    "sns.lineplot(y=timeseries_1k.values, x=timeseries_1k.index);"
   ]
  },
  {
   "cell_type": "code",
   "execution_count": 269,
   "id": "76a01d6e",
   "metadata": {},
   "outputs": [],
   "source": [
    "m = 10\n",
    "mp = stumpy.stump(timeseries, m)"
   ]
  },
  {
   "cell_type": "code",
   "execution_count": 311,
   "id": "bb4d86aa",
   "metadata": {},
   "outputs": [
    {
     "data": {
      "text/plain": [
       "array([[0.8362026850105405, 839, -1, 839],\n",
       "       [0.614817987791426, 10916, -1, 10916],\n",
       "       [0.4136527385424679, 5387, -1, 5387],\n",
       "       [0.49055111896549514, 10233, -1, 10233],\n",
       "       [0.7191189627685832, 8896, 0, 8896]], dtype=object)"
      ]
     },
     "execution_count": 311,
     "metadata": {},
     "output_type": "execute_result"
    }
   ],
   "source": [
    "mp[:5]"
   ]
  },
  {
   "cell_type": "code",
   "execution_count": 270,
   "id": "ce97cffa",
   "metadata": {},
   "outputs": [
    {
     "data": {
      "text/plain": [
       "(12522,)"
      ]
     },
     "execution_count": 270,
     "metadata": {},
     "output_type": "execute_result"
    }
   ],
   "source": [
    "timeseries.shape"
   ]
  },
  {
   "cell_type": "code",
   "execution_count": 271,
   "id": "342e387e",
   "metadata": {},
   "outputs": [
    {
     "data": {
      "text/plain": [
       "12513"
      ]
     },
     "execution_count": 271,
     "metadata": {},
     "output_type": "execute_result"
    }
   ],
   "source": [
    "len(mp)"
   ]
  },
  {
   "cell_type": "code",
   "execution_count": 301,
   "id": "2327f17f",
   "metadata": {},
   "outputs": [],
   "source": [
    "motif_index = np.argsort(mp[:, 0])[10]"
   ]
  },
  {
   "cell_type": "code",
   "execution_count": 302,
   "id": "68866917",
   "metadata": {},
   "outputs": [
    {
     "data": {
      "text/plain": [
       "3111"
      ]
     },
     "execution_count": 302,
     "metadata": {},
     "output_type": "execute_result"
    }
   ],
   "source": [
    "motif_index"
   ]
  },
  {
   "cell_type": "code",
   "execution_count": 303,
   "id": "014fcbb9",
   "metadata": {},
   "outputs": [],
   "source": [
    "nearest_neighbor_idx = mp[motif_index, 1]"
   ]
  },
  {
   "cell_type": "code",
   "execution_count": 304,
   "id": "a3cd58dc",
   "metadata": {},
   "outputs": [
    {
     "data": {
      "text/plain": [
       "3375"
      ]
     },
     "execution_count": 304,
     "metadata": {},
     "output_type": "execute_result"
    }
   ],
   "source": [
    "nearest_neighbor_idx"
   ]
  },
  {
   "cell_type": "code",
   "execution_count": 305,
   "id": "f5a07295",
   "metadata": {},
   "outputs": [],
   "source": [
    "pattern_1 = timeseries[nearest_neighbor_idx:].head(30)"
   ]
  },
  {
   "cell_type": "code",
   "execution_count": 306,
   "id": "0242839a",
   "metadata": {},
   "outputs": [
    {
     "data": {
      "text/plain": [
       "pTime\n",
       "1270805400   1.5296\n",
       "1270807200   1.5315\n",
       "1270809000   1.5343\n",
       "1270810800   1.5364\n",
       "1270812600   1.5371\n",
       "dtype: float64"
      ]
     },
     "execution_count": 306,
     "metadata": {},
     "output_type": "execute_result"
    }
   ],
   "source": [
    "pattern_1.head()"
   ]
  },
  {
   "cell_type": "code",
   "execution_count": 307,
   "id": "5582e04d",
   "metadata": {},
   "outputs": [],
   "source": [
    "pattern_2 = timeseries[motif_index:].head(30)"
   ]
  },
  {
   "cell_type": "code",
   "execution_count": 308,
   "id": "ccd7f30e",
   "metadata": {},
   "outputs": [],
   "source": [
    "pattern_2.index = pattern_1.index"
   ]
  },
  {
   "cell_type": "code",
   "execution_count": 309,
   "id": "a2419cec",
   "metadata": {},
   "outputs": [
    {
     "data": {
      "text/plain": [
       "pTime\n",
       "1270805400   1.5271\n",
       "1270807200   1.5276\n",
       "1270809000   1.5285\n",
       "1270810800   1.5291\n",
       "1270812600   1.5293\n",
       "dtype: float64"
      ]
     },
     "execution_count": 309,
     "metadata": {},
     "output_type": "execute_result"
    }
   ],
   "source": [
    "pattern_2.head()"
   ]
  },
  {
   "cell_type": "code",
   "execution_count": 310,
   "id": "9b382fbb",
   "metadata": {},
   "outputs": [
    {
     "data": {
      "text/plain": [
       "<AxesSubplot:xlabel='pTime'>"
      ]
     },
     "execution_count": 310,
     "metadata": {},
     "output_type": "execute_result"
    },
    {
     "data": {
      "image/png": "[encoded data removed]",
      "text/plain": [
       "<Figure size 432x288 with 1 Axes>"
      ]
     },
     "metadata": {
      "needs_background": "light"
     },
     "output_type": "display_data"
    }
   ],
   "source": [
    "sns.lineplot(data=pattern_1)\n",
    "sns.lineplot(data=pattern_2)"
   ]
  },
  {
   "cell_type": "code",
   "execution_count": null,
   "id": "bdee9213",
   "metadata": {},
   "outputs": [],
   "source": []
  },
  {
   "cell_type": "code",
   "execution_count": null,
   "id": "696fcbd6",
   "metadata": {},
   "outputs": [],
   "source": []
  }
 ],
 "metadata": {
  "kernelspec": {
   "display_name": "Python 3",
   "language": "python",
   "name": "python3"
  },
  "language_info": {
   "codemirror_mode": {
    "name": "ipython",
    "version": 3
   },
   "file_extension": ".py",
   "mimetype": "text/x-python",
   "name": "python",
   "nbconvert_exporter": "python",
   "pygments_lexer": "ipython3",
   "version": "3.6.13"
  }
 },
 "nbformat": 4,
 "nbformat_minor": 5
}
