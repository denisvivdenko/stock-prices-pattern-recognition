{
 "cells": [
  {
   "cell_type": "code",
   "execution_count": 7,
   "id": "549c0c05",
   "metadata": {},
   "outputs": [],
   "source": [
    "import numpy as np\n",
    "import pandas as pd\n",
    "import matplotlib.pyplot as plt\n",
    "import seaborn as sns\n",
    "import mplfinance as fplt\n",
    "import sqlite3"
   ]
  },
  {
   "cell_type": "code",
   "execution_count": 111,
   "id": "9f33905c",
   "metadata": {},
   "outputs": [],
   "source": [
    "pd.options.display.float_format = \"{:,.2f}\".format\n",
    "np.set_printoptions(formatter={'all':lambda x: str(x)})"
   ]
  },
  {
   "cell_type": "code",
   "execution_count": 47,
   "id": "64ac5c90",
   "metadata": {},
   "outputs": [],
   "source": [
    "connection = sqlite3.connect('./data/GBPUSD.db')\n",
    "df = pd.read_sql_query(\"SELECT * FROM result_table_2010\", connection, parse_dates=True)"
   ]
  },
  {
   "cell_type": "code",
   "execution_count": 48,
   "id": "12a525af",
   "metadata": {},
   "outputs": [
    {
     "data": {
      "text/html": [
       "<div>\n",
       "<style scoped>\n",
       "    .dataframe tbody tr th:only-of-type {\n",
       "        vertical-align: middle;\n",
       "    }\n",
       "\n",
       "    .dataframe tbody tr th {\n",
       "        vertical-align: top;\n",
       "    }\n",
       "\n",
       "    .dataframe thead th {\n",
       "        text-align: right;\n",
       "    }\n",
       "</style>\n",
       "<table border=\"1\" class=\"dataframe\">\n",
       "  <thead>\n",
       "    <tr style=\"text-align: right;\">\n",
       "      <th></th>\n",
       "      <th>numClass</th>\n",
       "      <th>x_pos</th>\n",
       "      <th>y_pos</th>\n",
       "      <th>time_name_pattern</th>\n",
       "    </tr>\n",
       "  </thead>\n",
       "  <tbody>\n",
       "    <tr>\n",
       "      <th>0</th>\n",
       "      <td>98</td>\n",
       "      <td>9</td>\n",
       "      <td>8</td>\n",
       "      <td>1262304000</td>\n",
       "    </tr>\n",
       "    <tr>\n",
       "      <th>1</th>\n",
       "      <td>98</td>\n",
       "      <td>9</td>\n",
       "      <td>8</td>\n",
       "      <td>1262305800</td>\n",
       "    </tr>\n",
       "    <tr>\n",
       "      <th>2</th>\n",
       "      <td>98</td>\n",
       "      <td>9</td>\n",
       "      <td>8</td>\n",
       "      <td>1262307600</td>\n",
       "    </tr>\n",
       "    <tr>\n",
       "      <th>3</th>\n",
       "      <td>98</td>\n",
       "      <td>9</td>\n",
       "      <td>8</td>\n",
       "      <td>1262309400</td>\n",
       "    </tr>\n",
       "    <tr>\n",
       "      <th>4</th>\n",
       "      <td>98</td>\n",
       "      <td>9</td>\n",
       "      <td>8</td>\n",
       "      <td>1262311200</td>\n",
       "    </tr>\n",
       "  </tbody>\n",
       "</table>\n",
       "</div>"
      ],
      "text/plain": [
       "   numClass  x_pos  y_pos time_name_pattern\n",
       "0        98      9      8        1262304000\n",
       "1        98      9      8        1262305800\n",
       "2        98      9      8        1262307600\n",
       "3        98      9      8        1262309400\n",
       "4        98      9      8        1262311200"
      ]
     },
     "execution_count": 48,
     "metadata": {},
     "output_type": "execute_result"
    }
   ],
   "source": [
    "df.head()"
   ]
  },
  {
   "cell_type": "code",
   "execution_count": 49,
   "id": "18ccf64e",
   "metadata": {},
   "outputs": [],
   "source": [
    "df = df.rename({'time_name_pattern': 'date'}, axis=1)"
   ]
  },
  {
   "cell_type": "code",
   "execution_count": 50,
   "id": "27405eae",
   "metadata": {},
   "outputs": [],
   "source": [
    "df.date = pd.to_datetime(df.date, unit='s')"
   ]
  },
  {
   "cell_type": "code",
   "execution_count": 51,
   "id": "8932a890",
   "metadata": {},
   "outputs": [
    {
     "data": {
      "text/html": [
       "<div>\n",
       "<style scoped>\n",
       "    .dataframe tbody tr th:only-of-type {\n",
       "        vertical-align: middle;\n",
       "    }\n",
       "\n",
       "    .dataframe tbody tr th {\n",
       "        vertical-align: top;\n",
       "    }\n",
       "\n",
       "    .dataframe thead th {\n",
       "        text-align: right;\n",
       "    }\n",
       "</style>\n",
       "<table border=\"1\" class=\"dataframe\">\n",
       "  <thead>\n",
       "    <tr style=\"text-align: right;\">\n",
       "      <th></th>\n",
       "      <th>numClass</th>\n",
       "      <th>x_pos</th>\n",
       "      <th>y_pos</th>\n",
       "      <th>date</th>\n",
       "    </tr>\n",
       "  </thead>\n",
       "  <tbody>\n",
       "    <tr>\n",
       "      <th>0</th>\n",
       "      <td>98</td>\n",
       "      <td>9</td>\n",
       "      <td>8</td>\n",
       "      <td>2010-01-01 00:00:00</td>\n",
       "    </tr>\n",
       "    <tr>\n",
       "      <th>1</th>\n",
       "      <td>98</td>\n",
       "      <td>9</td>\n",
       "      <td>8</td>\n",
       "      <td>2010-01-01 00:30:00</td>\n",
       "    </tr>\n",
       "    <tr>\n",
       "      <th>2</th>\n",
       "      <td>98</td>\n",
       "      <td>9</td>\n",
       "      <td>8</td>\n",
       "      <td>2010-01-01 01:00:00</td>\n",
       "    </tr>\n",
       "    <tr>\n",
       "      <th>3</th>\n",
       "      <td>98</td>\n",
       "      <td>9</td>\n",
       "      <td>8</td>\n",
       "      <td>2010-01-01 01:30:00</td>\n",
       "    </tr>\n",
       "    <tr>\n",
       "      <th>4</th>\n",
       "      <td>98</td>\n",
       "      <td>9</td>\n",
       "      <td>8</td>\n",
       "      <td>2010-01-01 02:00:00</td>\n",
       "    </tr>\n",
       "  </tbody>\n",
       "</table>\n",
       "</div>"
      ],
      "text/plain": [
       "   numClass  x_pos  y_pos                date\n",
       "0        98      9      8 2010-01-01 00:00:00\n",
       "1        98      9      8 2010-01-01 00:30:00\n",
       "2        98      9      8 2010-01-01 01:00:00\n",
       "3        98      9      8 2010-01-01 01:30:00\n",
       "4        98      9      8 2010-01-01 02:00:00"
      ]
     },
     "execution_count": 51,
     "metadata": {},
     "output_type": "execute_result"
    }
   ],
   "source": [
    "df.head()"
   ]
  },
  {
   "cell_type": "code",
   "execution_count": 52,
   "id": "e905f613",
   "metadata": {},
   "outputs": [],
   "source": [
    "index = df.date\n",
    "df = df.drop('date', axis=1)\n",
    "df.index = index"
   ]
  },
  {
   "cell_type": "code",
   "execution_count": 53,
   "id": "197b3018",
   "metadata": {},
   "outputs": [
    {
     "data": {
      "text/plain": [
       "pandas.core.indexes.datetimes.DatetimeIndex"
      ]
     },
     "execution_count": 53,
     "metadata": {},
     "output_type": "execute_result"
    }
   ],
   "source": [
    "type(df.index)"
   ]
  },
  {
   "cell_type": "code",
   "execution_count": 54,
   "id": "0025528c",
   "metadata": {},
   "outputs": [
    {
     "data": {
      "text/html": [
       "<div>\n",
       "<style scoped>\n",
       "    .dataframe tbody tr th:only-of-type {\n",
       "        vertical-align: middle;\n",
       "    }\n",
       "\n",
       "    .dataframe tbody tr th {\n",
       "        vertical-align: top;\n",
       "    }\n",
       "\n",
       "    .dataframe thead th {\n",
       "        text-align: right;\n",
       "    }\n",
       "</style>\n",
       "<table border=\"1\" class=\"dataframe\">\n",
       "  <thead>\n",
       "    <tr style=\"text-align: right;\">\n",
       "      <th></th>\n",
       "      <th>numClass</th>\n",
       "      <th>x_pos</th>\n",
       "      <th>y_pos</th>\n",
       "    </tr>\n",
       "    <tr>\n",
       "      <th>date</th>\n",
       "      <th></th>\n",
       "      <th></th>\n",
       "      <th></th>\n",
       "    </tr>\n",
       "  </thead>\n",
       "  <tbody>\n",
       "    <tr>\n",
       "      <th>2010-01-01 00:00:00</th>\n",
       "      <td>98</td>\n",
       "      <td>9</td>\n",
       "      <td>8</td>\n",
       "    </tr>\n",
       "    <tr>\n",
       "      <th>2010-01-01 00:30:00</th>\n",
       "      <td>98</td>\n",
       "      <td>9</td>\n",
       "      <td>8</td>\n",
       "    </tr>\n",
       "    <tr>\n",
       "      <th>2010-01-01 01:00:00</th>\n",
       "      <td>98</td>\n",
       "      <td>9</td>\n",
       "      <td>8</td>\n",
       "    </tr>\n",
       "    <tr>\n",
       "      <th>2010-01-01 01:30:00</th>\n",
       "      <td>98</td>\n",
       "      <td>9</td>\n",
       "      <td>8</td>\n",
       "    </tr>\n",
       "    <tr>\n",
       "      <th>2010-01-01 02:00:00</th>\n",
       "      <td>98</td>\n",
       "      <td>9</td>\n",
       "      <td>8</td>\n",
       "    </tr>\n",
       "  </tbody>\n",
       "</table>\n",
       "</div>"
      ],
      "text/plain": [
       "                     numClass  x_pos  y_pos\n",
       "date                                       \n",
       "2010-01-01 00:00:00        98      9      8\n",
       "2010-01-01 00:30:00        98      9      8\n",
       "2010-01-01 01:00:00        98      9      8\n",
       "2010-01-01 01:30:00        98      9      8\n",
       "2010-01-01 02:00:00        98      9      8"
      ]
     },
     "execution_count": 54,
     "metadata": {},
     "output_type": "execute_result"
    }
   ],
   "source": [
    "df.head()"
   ]
  },
  {
   "cell_type": "code",
   "execution_count": 57,
   "id": "7c28901e",
   "metadata": {},
   "outputs": [],
   "source": [
    "class_count = df.groupby('numClass', as_index=False).agg({'x_pos': 'count'}).rename({'x_pos': 'count'}, axis=1)"
   ]
  },
  {
   "cell_type": "code",
   "execution_count": 59,
   "id": "0bf086a1",
   "metadata": {},
   "outputs": [
    {
     "data": {
      "text/html": [
       "<div>\n",
       "<style scoped>\n",
       "    .dataframe tbody tr th:only-of-type {\n",
       "        vertical-align: middle;\n",
       "    }\n",
       "\n",
       "    .dataframe tbody tr th {\n",
       "        vertical-align: top;\n",
       "    }\n",
       "\n",
       "    .dataframe thead th {\n",
       "        text-align: right;\n",
       "    }\n",
       "</style>\n",
       "<table border=\"1\" class=\"dataframe\">\n",
       "  <thead>\n",
       "    <tr style=\"text-align: right;\">\n",
       "      <th></th>\n",
       "      <th>numClass</th>\n",
       "      <th>count</th>\n",
       "    </tr>\n",
       "  </thead>\n",
       "  <tbody>\n",
       "    <tr>\n",
       "      <th>0</th>\n",
       "      <td>0</td>\n",
       "      <td>554</td>\n",
       "    </tr>\n",
       "    <tr>\n",
       "      <th>1</th>\n",
       "      <td>1</td>\n",
       "      <td>79</td>\n",
       "    </tr>\n",
       "    <tr>\n",
       "      <th>2</th>\n",
       "      <td>2</td>\n",
       "      <td>97</td>\n",
       "    </tr>\n",
       "    <tr>\n",
       "      <th>3</th>\n",
       "      <td>3</td>\n",
       "      <td>78</td>\n",
       "    </tr>\n",
       "    <tr>\n",
       "      <th>4</th>\n",
       "      <td>4</td>\n",
       "      <td>68</td>\n",
       "    </tr>\n",
       "  </tbody>\n",
       "</table>\n",
       "</div>"
      ],
      "text/plain": [
       "   numClass  count\n",
       "0         0    554\n",
       "1         1     79\n",
       "2         2     97\n",
       "3         3     78\n",
       "4         4     68"
      ]
     },
     "execution_count": 59,
     "metadata": {},
     "output_type": "execute_result"
    }
   ],
   "source": [
    "class_count.head()"
   ]
  },
  {
   "cell_type": "code",
   "execution_count": 62,
   "id": "71efbb1a",
   "metadata": {},
   "outputs": [
    {
     "data": {
      "image/png": "[encoded data removed]",
      "text/plain": [
       "<Figure size 432x288 with 1 Axes>"
      ]
     },
     "metadata": {
      "needs_background": "light"
     },
     "output_type": "display_data"
    }
   ],
   "source": [
    "sns.histplot(data=class_count, x='count');"
   ]
  },
  {
   "cell_type": "code",
   "execution_count": 65,
   "id": "c68034af",
   "metadata": {},
   "outputs": [],
   "source": [
    "class_count_axis = df.groupby(['x_pos', 'y_pos'], as_index=False)\\\n",
    "    .agg({'numClass': 'count'}).rename({'numClass': 'count'}, axis=1)"
   ]
  },
  {
   "cell_type": "code",
   "execution_count": 96,
   "id": "bba1d8df",
   "metadata": {},
   "outputs": [
    {
     "data": {
      "text/html": [
       "<div>\n",
       "<style scoped>\n",
       "    .dataframe tbody tr th:only-of-type {\n",
       "        vertical-align: middle;\n",
       "    }\n",
       "\n",
       "    .dataframe tbody tr th {\n",
       "        vertical-align: top;\n",
       "    }\n",
       "\n",
       "    .dataframe thead th {\n",
       "        text-align: right;\n",
       "    }\n",
       "</style>\n",
       "<table border=\"1\" class=\"dataframe\">\n",
       "  <thead>\n",
       "    <tr style=\"text-align: right;\">\n",
       "      <th></th>\n",
       "      <th>x_pos</th>\n",
       "      <th>y_pos</th>\n",
       "      <th>count</th>\n",
       "    </tr>\n",
       "  </thead>\n",
       "  <tbody>\n",
       "    <tr>\n",
       "      <th>0</th>\n",
       "      <td>0</td>\n",
       "      <td>0</td>\n",
       "      <td>554</td>\n",
       "    </tr>\n",
       "    <tr>\n",
       "      <th>1</th>\n",
       "      <td>0</td>\n",
       "      <td>1</td>\n",
       "      <td>79</td>\n",
       "    </tr>\n",
       "    <tr>\n",
       "      <th>2</th>\n",
       "      <td>0</td>\n",
       "      <td>2</td>\n",
       "      <td>97</td>\n",
       "    </tr>\n",
       "    <tr>\n",
       "      <th>3</th>\n",
       "      <td>0</td>\n",
       "      <td>3</td>\n",
       "      <td>78</td>\n",
       "    </tr>\n",
       "    <tr>\n",
       "      <th>4</th>\n",
       "      <td>0</td>\n",
       "      <td>4</td>\n",
       "      <td>68</td>\n",
       "    </tr>\n",
       "  </tbody>\n",
       "</table>\n",
       "</div>"
      ],
      "text/plain": [
       "   x_pos  y_pos  count\n",
       "0      0      0    554\n",
       "1      0      1     79\n",
       "2      0      2     97\n",
       "3      0      3     78\n",
       "4      0      4     68"
      ]
     },
     "execution_count": 96,
     "metadata": {},
     "output_type": "execute_result"
    }
   ],
   "source": [
    "class_count_axis.head()"
   ]
  },
  {
   "cell_type": "code",
   "execution_count": 82,
   "id": "7d1c337b",
   "metadata": {},
   "outputs": [
    {
     "data": {
      "text/plain": [
       "x_pos    0\n",
       "y_pos    0\n",
       "count    0\n",
       "dtype: int64"
      ]
     },
     "execution_count": 82,
     "metadata": {},
     "output_type": "execute_result"
    }
   ],
   "source": [
    "class_count_axis.isna().sum()"
   ]
  },
  {
   "cell_type": "code",
   "execution_count": 92,
   "id": "8d7aa125",
   "metadata": {},
   "outputs": [],
   "source": [
    "count_matrix = np.ndarray(shape=(10, 10))\n",
    "\n",
    "for x in set(class_count_axis.x_pos):\n",
    "    for y in set(class_count_axis.y_pos):\n",
    "        try:\n",
    "            count_matrix[x, y] = class_count_axis.loc[(class_count_axis.x_pos == x) & (class_count_axis.y_pos == y)]['count']\\\n",
    "                                .values[0]\n",
    "        except Exception:\n",
    "            count_matrix[x, y] = 0"
   ]
  },
  {
   "cell_type": "code",
   "execution_count": 104,
   "id": "13bde72a",
   "metadata": {},
   "outputs": [
    {
     "data": {
      "text/plain": [
       "array([[554.,  79.,  97.,  78.,  68.,  41.,  32., 147., 102.,   0.],\n",
       "       [195., 256., 132.,  94.,  98.,  77.,  46., 149.,  78.,  98.],\n",
       "       [127., 138., 111., 151., 113., 240.,  85.,  65., 127.,  54.],\n",
       "       [ 77., 122., 171.,  91., 120.,  77.,  93.,  73.,  93., 210.],\n",
       "       [ 76., 150., 118., 129.,  43.,  55.,  36., 297.,  98.,  56.],\n",
       "       [ 68.,  64., 118.,  46.,  87.,  75.,  76., 164., 106., 105.],\n",
       "       [187.,  96.,  37.,  29.,  38.,  89., 244., 208., 150., 116.],\n",
       "       [ 51., 174.,  36.,  79.,  67.,  56., 154., 180., 148., 225.],\n",
       "       [250.,  35., 104., 179., 149., 137., 182., 136.,  93., 212.],\n",
       "       [ 97., 215.,  41.,  63.,  82., 121., 198., 224., 353., 541.]])"
      ]
     },
     "execution_count": 104,
     "metadata": {},
     "output_type": "execute_result"
    }
   ],
   "source": [
    "count_matrix"
   ]
  },
  {
   "cell_type": "code",
   "execution_count": 126,
   "id": "fba0b092",
   "metadata": {},
   "outputs": [
    {
     "data": {
      "image/png": "[encoded data removed]",
      "text/plain": [
       "<Figure size 936x576 with 2 Axes>"
      ]
     },
     "metadata": {
      "needs_background": "light"
     },
     "output_type": "display_data"
    }
   ],
   "source": [
    "plt.figure(figsize=(13, 8))\n",
    "cmap = sns.color_palette(\"light:b\", as_cmap=True)\n",
    "sns.heatmap(count_matrix, annot=True, cmap=cmap, fmt='g');\n",
    "plt.savefig(\"count_matrix_2010.png\")"
   ]
  },
  {
   "cell_type": "code",
   "execution_count": 80,
   "id": "181e91e1",
   "metadata": {},
   "outputs": [
    {
     "data": {
      "text/plain": [
       "554"
      ]
     },
     "execution_count": 80,
     "metadata": {},
     "output_type": "execute_result"
    }
   ],
   "source": [
    "class_count_axis[((class_count_axis.x_pos == 0) & (class_count_axis.y_pos == 0))]['count'].values[0]"
   ]
  },
  {
   "cell_type": "code",
   "execution_count": null,
   "id": "04eb5456",
   "metadata": {},
   "outputs": [],
   "source": []
  },
  {
   "cell_type": "code",
   "execution_count": null,
   "id": "280d8d8c",
   "metadata": {},
   "outputs": [],
   "source": []
  },
  {
   "cell_type": "code",
   "execution_count": null,
   "id": "31c672f6",
   "metadata": {},
   "outputs": [],
   "source": []
  },
  {
   "cell_type": "code",
   "execution_count": null,
   "id": "1f827fa5",
   "metadata": {},
   "outputs": [],
   "source": []
  },
  {
   "cell_type": "code",
   "execution_count": null,
   "id": "65ec733a",
   "metadata": {},
   "outputs": [],
   "source": []
  }
 ],
 "metadata": {
  "kernelspec": {
   "display_name": "Python 3",
   "language": "python",
   "name": "python3"
  },
  "language_info": {
   "codemirror_mode": {
    "name": "ipython",
    "version": 3
   },
   "file_extension": ".py",
   "mimetype": "text/x-python",
   "name": "python",
   "nbconvert_exporter": "python",
   "pygments_lexer": "ipython3",
   "version": "3.6.13"
  }
 },
 "nbformat": 4,
 "nbformat_minor": 5
}
