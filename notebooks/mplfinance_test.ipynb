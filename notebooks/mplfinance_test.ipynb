{
 "cells": [
  {
   "cell_type": "code",
   "execution_count": 1,
   "id": "7d5a451b",
   "metadata": {},
   "outputs": [],
   "source": [
    "import pandas as pd\n",
    "import numpy as np\n",
    "import sqlite3\n",
    "import mplfinance as fplt\n",
    "import datetime"
   ]
  },
  {
   "cell_type": "code",
   "execution_count": 22,
   "id": "e2605a9a",
   "metadata": {},
   "outputs": [],
   "source": [
    "connection = sqlite3.connect(\"../data/GBPUSD.db\")\n",
    "\n",
    "cursor = connection.cursor()\n",
    "\n",
    "count = 0\n",
    "\n",
    "index = []\n",
    "data = []\n",
    "for row in cursor.execute('SELECT * FROM MT4__M00030;'):\n",
    "    if count == 20:\n",
    "        break\n",
    "    \n",
    "    index.append(row[0])\n",
    "    data.append(row[1:])\n",
    "    \n",
    "    count += 1\n",
    "\n",
    "connection.close()"
   ]
  },
  {
   "cell_type": "code",
   "execution_count": 30,
   "id": "a6ed1791",
   "metadata": {},
   "outputs": [
    {
     "data": {
      "text/plain": [
       "[978483600,\n",
       " 978485400,\n",
       " 978487200,\n",
       " 978489000,\n",
       " 978490800,\n",
       " 978492600,\n",
       " 978494400,\n",
       " 978496200,\n",
       " 978498000,\n",
       " 978499800]"
      ]
     },
     "execution_count": 30,
     "metadata": {},
     "output_type": "execute_result"
    }
   ],
   "source": [
    "index[:10]"
   ]
  },
  {
   "cell_type": "code",
   "execution_count": 31,
   "id": "cb01348f",
   "metadata": {},
   "outputs": [],
   "source": [
    "index = pd.Series(index, name='Date')"
   ]
  },
  {
   "cell_type": "code",
   "execution_count": 32,
   "id": "998cbaf5",
   "metadata": {},
   "outputs": [
    {
     "data": {
      "text/plain": [
       "0    978483600\n",
       "1    978485400\n",
       "2    978487200\n",
       "3    978489000\n",
       "4    978490800\n",
       "Name: Date, dtype: int64"
      ]
     },
     "execution_count": 32,
     "metadata": {},
     "output_type": "execute_result"
    }
   ],
   "source": [
    "index.head()"
   ]
  },
  {
   "cell_type": "code",
   "execution_count": 33,
   "id": "b90208c9",
   "metadata": {},
   "outputs": [],
   "source": [
    "index = pd.to_datetime(index, unit='s')"
   ]
  },
  {
   "cell_type": "code",
   "execution_count": 34,
   "id": "7a4f0bfc",
   "metadata": {},
   "outputs": [
    {
     "data": {
      "text/plain": [
       "0   2001-01-03 01:00:00\n",
       "1   2001-01-03 01:30:00\n",
       "2   2001-01-03 02:00:00\n",
       "3   2001-01-03 02:30:00\n",
       "4   2001-01-03 03:00:00\n",
       "Name: Date, dtype: datetime64[ns]"
      ]
     },
     "execution_count": 34,
     "metadata": {},
     "output_type": "execute_result"
    }
   ],
   "source": [
    "index.head()"
   ]
  },
  {
   "cell_type": "code",
   "execution_count": 29,
   "id": "e515eedc",
   "metadata": {},
   "outputs": [
    {
     "data": {
      "text/plain": [
       "[(1.5021, 1.5021, 1.5015, 1.5017),\n",
       " (1.5016, 1.5016, 1.5009, 1.5009),\n",
       " (1.502, 1.502, 1.5005, 1.5014),\n",
       " (1.5014, 1.5015, 1.5007, 1.5011),\n",
       " (1.5011, 1.5025, 1.5011, 1.5023),\n",
       " (1.5023, 1.503, 1.5023, 1.5025),\n",
       " (1.5025, 1.503, 1.5023, 1.5029),\n",
       " (1.5029, 1.503, 1.5028, 1.5028),\n",
       " (1.5028, 1.5028, 1.5024, 1.5025),\n",
       " (1.5025, 1.5025, 1.502, 1.5022)]"
      ]
     },
     "execution_count": 29,
     "metadata": {},
     "output_type": "execute_result"
    }
   ],
   "source": [
    "data[:10]"
   ]
  },
  {
   "cell_type": "code",
   "execution_count": 38,
   "id": "15a79a9c",
   "metadata": {},
   "outputs": [],
   "source": [
    "df_segment = pd.DataFrame(data=data, index=index, columns=['Open', 'High', 'Low', 'Close'])"
   ]
  },
  {
   "cell_type": "code",
   "execution_count": 42,
   "id": "c224616c",
   "metadata": {},
   "outputs": [
    {
     "data": {
      "text/html": [
       "<div>\n",
       "<style scoped>\n",
       "    .dataframe tbody tr th:only-of-type {\n",
       "        vertical-align: middle;\n",
       "    }\n",
       "\n",
       "    .dataframe tbody tr th {\n",
       "        vertical-align: top;\n",
       "    }\n",
       "\n",
       "    .dataframe thead th {\n",
       "        text-align: right;\n",
       "    }\n",
       "</style>\n",
       "<table border=\"1\" class=\"dataframe\">\n",
       "  <thead>\n",
       "    <tr style=\"text-align: right;\">\n",
       "      <th></th>\n",
       "      <th>Open</th>\n",
       "      <th>High</th>\n",
       "      <th>Low</th>\n",
       "      <th>Close</th>\n",
       "    </tr>\n",
       "    <tr>\n",
       "      <th>Date</th>\n",
       "      <th></th>\n",
       "      <th></th>\n",
       "      <th></th>\n",
       "      <th></th>\n",
       "    </tr>\n",
       "  </thead>\n",
       "  <tbody>\n",
       "    <tr>\n",
       "      <th>2001-01-03 01:00:00</th>\n",
       "      <td>1.5021</td>\n",
       "      <td>1.5021</td>\n",
       "      <td>1.5015</td>\n",
       "      <td>1.5017</td>\n",
       "    </tr>\n",
       "    <tr>\n",
       "      <th>2001-01-03 01:30:00</th>\n",
       "      <td>1.5016</td>\n",
       "      <td>1.5016</td>\n",
       "      <td>1.5009</td>\n",
       "      <td>1.5009</td>\n",
       "    </tr>\n",
       "    <tr>\n",
       "      <th>2001-01-03 02:00:00</th>\n",
       "      <td>1.5020</td>\n",
       "      <td>1.5020</td>\n",
       "      <td>1.5005</td>\n",
       "      <td>1.5014</td>\n",
       "    </tr>\n",
       "    <tr>\n",
       "      <th>2001-01-03 02:30:00</th>\n",
       "      <td>1.5014</td>\n",
       "      <td>1.5015</td>\n",
       "      <td>1.5007</td>\n",
       "      <td>1.5011</td>\n",
       "    </tr>\n",
       "    <tr>\n",
       "      <th>2001-01-03 03:00:00</th>\n",
       "      <td>1.5011</td>\n",
       "      <td>1.5025</td>\n",
       "      <td>1.5011</td>\n",
       "      <td>1.5023</td>\n",
       "    </tr>\n",
       "  </tbody>\n",
       "</table>\n",
       "</div>"
      ],
      "text/plain": [
       "                       Open    High     Low   Close\n",
       "Date                                               \n",
       "2001-01-03 01:00:00  1.5021  1.5021  1.5015  1.5017\n",
       "2001-01-03 01:30:00  1.5016  1.5016  1.5009  1.5009\n",
       "2001-01-03 02:00:00  1.5020  1.5020  1.5005  1.5014\n",
       "2001-01-03 02:30:00  1.5014  1.5015  1.5007  1.5011\n",
       "2001-01-03 03:00:00  1.5011  1.5025  1.5011  1.5023"
      ]
     },
     "execution_count": 42,
     "metadata": {},
     "output_type": "execute_result"
    }
   ],
   "source": [
    "df_segment.head()"
   ]
  },
  {
   "cell_type": "code",
   "execution_count": 40,
   "id": "ed983a42",
   "metadata": {},
   "outputs": [
    {
     "data": {
      "text/plain": [
       "DatetimeIndex(['2001-01-03 01:00:00', '2001-01-03 01:30:00',\n",
       "               '2001-01-03 02:00:00', '2001-01-03 02:30:00',\n",
       "               '2001-01-03 03:00:00', '2001-01-03 03:30:00',\n",
       "               '2001-01-03 04:00:00', '2001-01-03 04:30:00',\n",
       "               '2001-01-03 05:00:00', '2001-01-03 05:30:00',\n",
       "               '2001-01-03 06:00:00', '2001-01-03 06:30:00',\n",
       "               '2001-01-03 07:00:00', '2001-01-03 07:30:00',\n",
       "               '2001-01-03 08:00:00', '2001-01-03 08:30:00',\n",
       "               '2001-01-03 09:00:00', '2001-01-03 09:30:00',\n",
       "               '2001-01-03 10:00:00', '2001-01-03 10:30:00'],\n",
       "              dtype='datetime64[ns]', name='Date', freq=None)"
      ]
     },
     "execution_count": 40,
     "metadata": {},
     "output_type": "execute_result"
    }
   ],
   "source": [
    "df_segment.index"
   ]
  },
  {
   "cell_type": "code",
   "execution_count": 43,
   "id": "f10091d1",
   "metadata": {
    "scrolled": true
   },
   "outputs": [
    {
     "data": {
      "image/png": "[encoded data removed]",
      "text/plain": [
       "<Figure size 800x575 with 2 Axes>"
      ]
     },
     "metadata": {},
     "output_type": "display_data"
    }
   ],
   "source": [
    "fplt.plot(df_segment, type='candle', volume=False)"
   ]
  },
  {
   "cell_type": "code",
   "execution_count": 46,
   "id": "15424be1",
   "metadata": {},
   "outputs": [
    {
     "data": {
      "text/plain": [
       "pandas.core.indexes.datetimes.DatetimeIndex"
      ]
     },
     "execution_count": 46,
     "metadata": {},
     "output_type": "execute_result"
    }
   ],
   "source": [
    "type(df_segment.index)"
   ]
  },
  {
   "cell_type": "code",
   "execution_count": null,
   "id": "7f2fbe86",
   "metadata": {},
   "outputs": [],
   "source": []
  },
  {
   "cell_type": "code",
   "execution_count": null,
   "id": "175fd06f",
   "metadata": {},
   "outputs": [],
   "source": []
  }
 ],
 "metadata": {
  "kernelspec": {
   "display_name": "Python 3",
   "language": "python",
   "name": "python3"
  },
  "language_info": {
   "codemirror_mode": {
    "name": "ipython",
    "version": 3
   },
   "file_extension": ".py",
   "mimetype": "text/x-python",
   "name": "python",
   "nbconvert_exporter": "python",
   "pygments_lexer": "ipython3",
   "version": "3.6.13"
  }
 },
 "nbformat": 4,
 "nbformat_minor": 5
}
