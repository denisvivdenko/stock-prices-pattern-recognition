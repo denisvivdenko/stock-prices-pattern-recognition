{
 "cells": [
  {
   "cell_type": "code",
   "execution_count": 154,
   "id": "e626cc2b",
   "metadata": {},
   "outputs": [],
   "source": [
    "import numpy as np\n",
    "import pandas as pd\n",
    "import matplotlib.pyplot as plt\n",
    "import seaborn as sns\n",
    "import sqlite3\n",
    "from scipy import signal"
   ]
  },
  {
   "cell_type": "code",
   "execution_count": 134,
   "id": "01fda20f",
   "metadata": {},
   "outputs": [],
   "source": [
    "connection = sqlite3.connect('../data/GBPUSD.db')\n",
    "df = pd.read_sql_query(\"SELECT * FROM d_2010\", connection, parse_dates=True)"
   ]
  },
  {
   "cell_type": "code",
   "execution_count": 135,
   "id": "e1c6488c",
   "metadata": {},
   "outputs": [],
   "source": [
    "std_coef = 10**7"
   ]
  },
  {
   "cell_type": "code",
   "execution_count": 136,
   "id": "d0636450",
   "metadata": {},
   "outputs": [
    {
     "data": {
      "text/html": [
       "<div>\n",
       "<style scoped>\n",
       "    .dataframe tbody tr th:only-of-type {\n",
       "        vertical-align: middle;\n",
       "    }\n",
       "\n",
       "    .dataframe tbody tr th {\n",
       "        vertical-align: top;\n",
       "    }\n",
       "\n",
       "    .dataframe thead th {\n",
       "        text-align: right;\n",
       "    }\n",
       "</style>\n",
       "<table border=\"1\" class=\"dataframe\">\n",
       "  <thead>\n",
       "    <tr style=\"text-align: right;\">\n",
       "      <th></th>\n",
       "      <th>pTime</th>\n",
       "      <th>pOpen</th>\n",
       "      <th>pHigh</th>\n",
       "      <th>pLow</th>\n",
       "      <th>pClose</th>\n",
       "      <th>vcOpen</th>\n",
       "      <th>vcHigh</th>\n",
       "      <th>vcLow</th>\n",
       "      <th>vcClose</th>\n",
       "    </tr>\n",
       "  </thead>\n",
       "  <tbody>\n",
       "    <tr>\n",
       "      <th>0</th>\n",
       "      <td>1262304000</td>\n",
       "      <td>1.61763</td>\n",
       "      <td>1.61763</td>\n",
       "      <td>1.61596</td>\n",
       "      <td>1.61698</td>\n",
       "      <td>3.016108</td>\n",
       "      <td>3.016108</td>\n",
       "      <td>-0.826759</td>\n",
       "      <td>1.520381</td>\n",
       "    </tr>\n",
       "    <tr>\n",
       "      <th>1</th>\n",
       "      <td>1262305800</td>\n",
       "      <td>1.61698</td>\n",
       "      <td>1.61702</td>\n",
       "      <td>1.61685</td>\n",
       "      <td>1.61695</td>\n",
       "      <td>1.407596</td>\n",
       "      <td>1.517228</td>\n",
       "      <td>1.051292</td>\n",
       "      <td>1.325372</td>\n",
       "    </tr>\n",
       "    <tr>\n",
       "      <th>2</th>\n",
       "      <td>1262307600</td>\n",
       "      <td>1.61695</td>\n",
       "      <td>1.61702</td>\n",
       "      <td>1.61685</td>\n",
       "      <td>1.61690</td>\n",
       "      <td>1.047474</td>\n",
       "      <td>1.260889</td>\n",
       "      <td>0.742596</td>\n",
       "      <td>0.895035</td>\n",
       "    </tr>\n",
       "    <tr>\n",
       "      <th>3</th>\n",
       "      <td>1262309400</td>\n",
       "      <td>1.61690</td>\n",
       "      <td>1.61700</td>\n",
       "      <td>1.61682</td>\n",
       "      <td>1.61695</td>\n",
       "      <td>1.214734</td>\n",
       "      <td>1.580460</td>\n",
       "      <td>0.922153</td>\n",
       "      <td>1.397597</td>\n",
       "    </tr>\n",
       "    <tr>\n",
       "      <th>4</th>\n",
       "      <td>1262311200</td>\n",
       "      <td>1.61689</td>\n",
       "      <td>1.61705</td>\n",
       "      <td>1.61682</td>\n",
       "      <td>1.61695</td>\n",
       "      <td>1.240695</td>\n",
       "      <td>1.935484</td>\n",
       "      <td>0.936725</td>\n",
       "      <td>1.501241</td>\n",
       "    </tr>\n",
       "  </tbody>\n",
       "</table>\n",
       "</div>"
      ],
      "text/plain": [
       "        pTime    pOpen    pHigh     pLow   pClose    vcOpen    vcHigh  \\\n",
       "0  1262304000  1.61763  1.61763  1.61596  1.61698  3.016108  3.016108   \n",
       "1  1262305800  1.61698  1.61702  1.61685  1.61695  1.407596  1.517228   \n",
       "2  1262307600  1.61695  1.61702  1.61685  1.61690  1.047474  1.260889   \n",
       "3  1262309400  1.61690  1.61700  1.61682  1.61695  1.214734  1.580460   \n",
       "4  1262311200  1.61689  1.61705  1.61682  1.61695  1.240695  1.935484   \n",
       "\n",
       "      vcLow   vcClose  \n",
       "0 -0.826759  1.520381  \n",
       "1  1.051292  1.325372  \n",
       "2  0.742596  0.895035  \n",
       "3  0.922153  1.397597  \n",
       "4  0.936725  1.501241  "
      ]
     },
     "execution_count": 136,
     "metadata": {},
     "output_type": "execute_result"
    }
   ],
   "source": [
    "df.head()"
   ]
  },
  {
   "cell_type": "code",
   "execution_count": 137,
   "id": "8ea32726",
   "metadata": {},
   "outputs": [],
   "source": [
    "df.columns = ['Date', 'Open', 'High', 'Low', 'Close', 'vcOpen', 'vcHigh', 'vcLow', 'vcClose']"
   ]
  },
  {
   "cell_type": "code",
   "execution_count": 138,
   "id": "8d418171",
   "metadata": {},
   "outputs": [],
   "source": [
    "df = df.drop(['vcOpen', 'vcHigh', 'vcLow', 'vcClose'], axis=1)"
   ]
  },
  {
   "cell_type": "code",
   "execution_count": 139,
   "id": "3a75e2cf",
   "metadata": {},
   "outputs": [
    {
     "data": {
      "text/html": [
       "<div>\n",
       "<style scoped>\n",
       "    .dataframe tbody tr th:only-of-type {\n",
       "        vertical-align: middle;\n",
       "    }\n",
       "\n",
       "    .dataframe tbody tr th {\n",
       "        vertical-align: top;\n",
       "    }\n",
       "\n",
       "    .dataframe thead th {\n",
       "        text-align: right;\n",
       "    }\n",
       "</style>\n",
       "<table border=\"1\" class=\"dataframe\">\n",
       "  <thead>\n",
       "    <tr style=\"text-align: right;\">\n",
       "      <th></th>\n",
       "      <th>Date</th>\n",
       "      <th>Open</th>\n",
       "      <th>High</th>\n",
       "      <th>Low</th>\n",
       "      <th>Close</th>\n",
       "    </tr>\n",
       "  </thead>\n",
       "  <tbody>\n",
       "    <tr>\n",
       "      <th>0</th>\n",
       "      <td>1262304000</td>\n",
       "      <td>1.61763</td>\n",
       "      <td>1.61763</td>\n",
       "      <td>1.61596</td>\n",
       "      <td>1.61698</td>\n",
       "    </tr>\n",
       "    <tr>\n",
       "      <th>1</th>\n",
       "      <td>1262305800</td>\n",
       "      <td>1.61698</td>\n",
       "      <td>1.61702</td>\n",
       "      <td>1.61685</td>\n",
       "      <td>1.61695</td>\n",
       "    </tr>\n",
       "    <tr>\n",
       "      <th>2</th>\n",
       "      <td>1262307600</td>\n",
       "      <td>1.61695</td>\n",
       "      <td>1.61702</td>\n",
       "      <td>1.61685</td>\n",
       "      <td>1.61690</td>\n",
       "    </tr>\n",
       "    <tr>\n",
       "      <th>3</th>\n",
       "      <td>1262309400</td>\n",
       "      <td>1.61690</td>\n",
       "      <td>1.61700</td>\n",
       "      <td>1.61682</td>\n",
       "      <td>1.61695</td>\n",
       "    </tr>\n",
       "    <tr>\n",
       "      <th>4</th>\n",
       "      <td>1262311200</td>\n",
       "      <td>1.61689</td>\n",
       "      <td>1.61705</td>\n",
       "      <td>1.61682</td>\n",
       "      <td>1.61695</td>\n",
       "    </tr>\n",
       "  </tbody>\n",
       "</table>\n",
       "</div>"
      ],
      "text/plain": [
       "         Date     Open     High      Low    Close\n",
       "0  1262304000  1.61763  1.61763  1.61596  1.61698\n",
       "1  1262305800  1.61698  1.61702  1.61685  1.61695\n",
       "2  1262307600  1.61695  1.61702  1.61685  1.61690\n",
       "3  1262309400  1.61690  1.61700  1.61682  1.61695\n",
       "4  1262311200  1.61689  1.61705  1.61682  1.61695"
      ]
     },
     "execution_count": 139,
     "metadata": {},
     "output_type": "execute_result"
    }
   ],
   "source": [
    "df.head()"
   ]
  },
  {
   "cell_type": "code",
   "execution_count": 140,
   "id": "c311bde1",
   "metadata": {},
   "outputs": [],
   "source": [
    "date_index = df.Date\n",
    "df = df.drop('Date', axis=1)\n",
    "df.index = date_index"
   ]
  },
  {
   "cell_type": "code",
   "execution_count": 142,
   "id": "74169253",
   "metadata": {},
   "outputs": [],
   "source": [
    "window = df.head(20)"
   ]
  },
  {
   "cell_type": "code",
   "execution_count": 144,
   "id": "70b2341d",
   "metadata": {},
   "outputs": [
    {
     "data": {
      "text/html": [
       "<div>\n",
       "<style scoped>\n",
       "    .dataframe tbody tr th:only-of-type {\n",
       "        vertical-align: middle;\n",
       "    }\n",
       "\n",
       "    .dataframe tbody tr th {\n",
       "        vertical-align: top;\n",
       "    }\n",
       "\n",
       "    .dataframe thead th {\n",
       "        text-align: right;\n",
       "    }\n",
       "</style>\n",
       "<table border=\"1\" class=\"dataframe\">\n",
       "  <thead>\n",
       "    <tr style=\"text-align: right;\">\n",
       "      <th></th>\n",
       "      <th>Open</th>\n",
       "      <th>High</th>\n",
       "      <th>Low</th>\n",
       "      <th>Close</th>\n",
       "    </tr>\n",
       "    <tr>\n",
       "      <th>Date</th>\n",
       "      <th></th>\n",
       "      <th></th>\n",
       "      <th></th>\n",
       "      <th></th>\n",
       "    </tr>\n",
       "  </thead>\n",
       "  <tbody>\n",
       "    <tr>\n",
       "      <th>1262304000</th>\n",
       "      <td>1.61763</td>\n",
       "      <td>1.61763</td>\n",
       "      <td>1.61596</td>\n",
       "      <td>1.61698</td>\n",
       "    </tr>\n",
       "    <tr>\n",
       "      <th>1262305800</th>\n",
       "      <td>1.61698</td>\n",
       "      <td>1.61702</td>\n",
       "      <td>1.61685</td>\n",
       "      <td>1.61695</td>\n",
       "    </tr>\n",
       "    <tr>\n",
       "      <th>1262307600</th>\n",
       "      <td>1.61695</td>\n",
       "      <td>1.61702</td>\n",
       "      <td>1.61685</td>\n",
       "      <td>1.61690</td>\n",
       "    </tr>\n",
       "    <tr>\n",
       "      <th>1262309400</th>\n",
       "      <td>1.61690</td>\n",
       "      <td>1.61700</td>\n",
       "      <td>1.61682</td>\n",
       "      <td>1.61695</td>\n",
       "    </tr>\n",
       "    <tr>\n",
       "      <th>1262311200</th>\n",
       "      <td>1.61689</td>\n",
       "      <td>1.61705</td>\n",
       "      <td>1.61682</td>\n",
       "      <td>1.61695</td>\n",
       "    </tr>\n",
       "  </tbody>\n",
       "</table>\n",
       "</div>"
      ],
      "text/plain": [
       "               Open     High      Low    Close\n",
       "Date                                          \n",
       "1262304000  1.61763  1.61763  1.61596  1.61698\n",
       "1262305800  1.61698  1.61702  1.61685  1.61695\n",
       "1262307600  1.61695  1.61702  1.61685  1.61690\n",
       "1262309400  1.61690  1.61700  1.61682  1.61695\n",
       "1262311200  1.61689  1.61705  1.61682  1.61695"
      ]
     },
     "execution_count": 144,
     "metadata": {},
     "output_type": "execute_result"
    }
   ],
   "source": [
    "window.head()"
   ]
  },
  {
   "cell_type": "code",
   "execution_count": 148,
   "id": "c57f080d",
   "metadata": {},
   "outputs": [],
   "source": [
    "window_means = pd.DataFrame(window.mean(axis=1), columns=['mean'])"
   ]
  },
  {
   "cell_type": "code",
   "execution_count": 152,
   "id": "706a4d08",
   "metadata": {},
   "outputs": [
    {
     "data": {
      "image/png": "[encoded data removed]",
      "text/plain": [
       "<Figure size 432x288 with 1 Axes>"
      ]
     },
     "metadata": {
      "needs_background": "light"
     },
     "output_type": "display_data"
    }
   ],
   "source": [
    "sns.lineplot(data=window_means, y='mean', x='Date');"
   ]
  },
  {
   "cell_type": "code",
   "execution_count": 153,
   "id": "55cf7730",
   "metadata": {},
   "outputs": [
    {
     "data": {
      "text/html": [
       "<div>\n",
       "<style scoped>\n",
       "    .dataframe tbody tr th:only-of-type {\n",
       "        vertical-align: middle;\n",
       "    }\n",
       "\n",
       "    .dataframe tbody tr th {\n",
       "        vertical-align: top;\n",
       "    }\n",
       "\n",
       "    .dataframe thead th {\n",
       "        text-align: right;\n",
       "    }\n",
       "</style>\n",
       "<table border=\"1\" class=\"dataframe\">\n",
       "  <thead>\n",
       "    <tr style=\"text-align: right;\">\n",
       "      <th></th>\n",
       "      <th>mean</th>\n",
       "    </tr>\n",
       "    <tr>\n",
       "      <th>Date</th>\n",
       "      <th></th>\n",
       "    </tr>\n",
       "  </thead>\n",
       "  <tbody>\n",
       "    <tr>\n",
       "      <th>1262304000</th>\n",
       "      <td>1.617050</td>\n",
       "    </tr>\n",
       "    <tr>\n",
       "      <th>1262305800</th>\n",
       "      <td>1.616950</td>\n",
       "    </tr>\n",
       "    <tr>\n",
       "      <th>1262307600</th>\n",
       "      <td>1.616930</td>\n",
       "    </tr>\n",
       "    <tr>\n",
       "      <th>1262309400</th>\n",
       "      <td>1.616918</td>\n",
       "    </tr>\n",
       "    <tr>\n",
       "      <th>1262311200</th>\n",
       "      <td>1.616928</td>\n",
       "    </tr>\n",
       "  </tbody>\n",
       "</table>\n",
       "</div>"
      ],
      "text/plain": [
       "                mean\n",
       "Date                \n",
       "1262304000  1.617050\n",
       "1262305800  1.616950\n",
       "1262307600  1.616930\n",
       "1262309400  1.616918\n",
       "1262311200  1.616928"
      ]
     },
     "execution_count": 153,
     "metadata": {},
     "output_type": "execute_result"
    }
   ],
   "source": [
    "window_means.head()"
   ]
  },
  {
   "cell_type": "code",
   "execution_count": 177,
   "id": "3da0734a",
   "metadata": {},
   "outputs": [],
   "source": [
    "means_data = window_means['mean'].values\n",
    "maximums = signal.argrelextrema(means_data, np.greater)"
   ]
  },
  {
   "cell_type": "code",
   "execution_count": 178,
   "id": "26cf8969",
   "metadata": {},
   "outputs": [
    {
     "data": {
      "text/plain": [
       "(array([ 7, 12, 15, 17], dtype=int64),)"
      ]
     },
     "execution_count": 178,
     "metadata": {},
     "output_type": "execute_result"
    }
   ],
   "source": [
    "maximums"
   ]
  },
  {
   "cell_type": "code",
   "execution_count": 179,
   "id": "972a3c89",
   "metadata": {},
   "outputs": [],
   "source": [
    "maximums_points = []\n",
    "maximums_date = []\n",
    "\n",
    "for maximum in maximums:\n",
    "    maximums_points.append(means_data[maximum])\n",
    "    maximums_date.append(window.index[maximum])"
   ]
  },
  {
   "cell_type": "code",
   "execution_count": 180,
   "id": "754a91cd",
   "metadata": {},
   "outputs": [
    {
     "data": {
      "text/plain": [
       "[array([1.616985 , 1.616695 , 1.6167925, 1.6167875])]"
      ]
     },
     "execution_count": 180,
     "metadata": {},
     "output_type": "execute_result"
    }
   ],
   "source": [
    "maximums_points"
   ]
  },
  {
   "cell_type": "code",
   "execution_count": 181,
   "id": "1c4f2e33",
   "metadata": {},
   "outputs": [
    {
     "data": {
      "text/plain": [
       "[Int64Index([1262316600, 1262325600, 1262331000, 1262334600], dtype='int64', name='Date')]"
      ]
     },
     "execution_count": 181,
     "metadata": {},
     "output_type": "execute_result"
    }
   ],
   "source": [
    "maximums_date"
   ]
  },
  {
   "cell_type": "code",
   "execution_count": 182,
   "id": "28b6b2e9",
   "metadata": {},
   "outputs": [],
   "source": [
    "maximums_points = pd.Series(index=maximums_date[0], data=maximums_points[0])"
   ]
  },
  {
   "cell_type": "code",
   "execution_count": 183,
   "id": "f81c2480",
   "metadata": {},
   "outputs": [
    {
     "data": {
      "text/plain": [
       "Date\n",
       "1262316600    1.616985\n",
       "1262325600    1.616695\n",
       "1262331000    1.616793\n",
       "1262334600    1.616787\n",
       "dtype: float64"
      ]
     },
     "execution_count": 183,
     "metadata": {},
     "output_type": "execute_result"
    }
   ],
   "source": [
    "maximums_points"
   ]
  },
  {
   "cell_type": "code",
   "execution_count": 188,
   "id": "2394837d",
   "metadata": {},
   "outputs": [
    {
     "data": {
      "image/png": "[encoded data removed]",
      "text/plain": [
       "<Figure size 432x288 with 1 Axes>"
      ]
     },
     "metadata": {
      "needs_background": "light"
     },
     "output_type": "display_data"
    }
   ],
   "source": [
    "sns.lineplot(data=window_means, y='mean', x='Date')\n",
    "sns.scatterplot(y=maximums_points.values, x=maximums_points.index, color='r', s=100);"
   ]
  },
  {
   "cell_type": "code",
   "execution_count": 206,
   "id": "d4051695",
   "metadata": {},
   "outputs": [],
   "source": [
    "def find_extremums(data, column_name, min_or_max):\n",
    "    func_values = data[column_name].values\n",
    "    extremums = signal.argrelextrema(func_values, min_or_max)\n",
    "    \n",
    "    extremums_values = []\n",
    "    extremums_timestamps = []\n",
    "\n",
    "    for extremum_index in extremums:\n",
    "        extremums_values.append(func_values[extremum_index])\n",
    "        extremums_timestamps.append(data.index[extremum_index])\n",
    "        \n",
    "    return pd.Series(index=extremums_timestamps[0], data=extremums_values[0])"
   ]
  },
  {
   "cell_type": "code",
   "execution_count": 209,
   "id": "bd06dbbe",
   "metadata": {},
   "outputs": [],
   "source": [
    "minimums = find_extremums(window_means, 'mean', np.less)"
   ]
  },
  {
   "cell_type": "code",
   "execution_count": 210,
   "id": "16205020",
   "metadata": {},
   "outputs": [],
   "source": [
    "maximums = find_extremums(window_means, 'mean', np.greater)"
   ]
  },
  {
   "cell_type": "code",
   "execution_count": 211,
   "id": "63c63b87",
   "metadata": {},
   "outputs": [
    {
     "data": {
      "image/png": "[encoded data removed]",
      "text/plain": [
       "<Figure size 432x288 with 1 Axes>"
      ]
     },
     "metadata": {
      "needs_background": "light"
     },
     "output_type": "display_data"
    }
   ],
   "source": [
    "sns.lineplot(data=window_means, y='mean', x='Date')\n",
    "sns.scatterplot(y=maximums.values, x=maximums.index, color='r', s=100);\n",
    "sns.scatterplot(y=minimums.values, x=minimums.index, color='y', s=100);"
   ]
  },
  {
   "cell_type": "code",
   "execution_count": null,
   "id": "b4d5b44d",
   "metadata": {},
   "outputs": [],
   "source": []
  }
 ],
 "metadata": {
  "kernelspec": {
   "display_name": "Python 3",
   "language": "python",
   "name": "python3"
  },
  "language_info": {
   "codemirror_mode": {
    "name": "ipython",
    "version": 3
   },
   "file_extension": ".py",
   "mimetype": "text/x-python",
   "name": "python",
   "nbconvert_exporter": "python",
   "pygments_lexer": "ipython3",
   "version": "3.6.13"
  }
 },
 "nbformat": 4,
 "nbformat_minor": 5
}
