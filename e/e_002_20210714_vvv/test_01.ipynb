{
 "cells": [
  {
   "cell_type": "code",
   "execution_count": 1,
   "id": "4847d740",
   "metadata": {},
   "outputs": [
    {
     "name": "stdout",
     "output_type": "stream",
     "text": [
      "[[[255 255 255 255]\n",
      "  [255 255 255 255]\n",
      "  [  0   0   0 255]\n",
      "  [255 255 255 255]\n",
      "  [255 255 255 255]\n",
      "  [255 255 255 255]]\n",
      "\n",
      " [[255 255 255 255]\n",
      "  [  0   0   0 255]\n",
      "  [255 255 255 255]\n",
      "  [255 255 255 255]\n",
      "  [255 255 255 255]\n",
      "  [255 255 255 255]]\n",
      "\n",
      " [[  0   0   0 255]\n",
      "  [255 255 255 255]\n",
      "  [  0   0   0 255]\n",
      "  [255 255 255 255]\n",
      "  [255 255 255 255]\n",
      "  [255 255 255 255]]\n",
      "\n",
      " [[255 255 255 255]\n",
      "  [255 255 255 255]\n",
      "  [255 255 255 255]\n",
      "  [255 255 255 255]\n",
      "  [255 255 255 255]\n",
      "  [255 255 255 255]]\n",
      "\n",
      " [[255 255 255 255]\n",
      "  [255 255 255 255]\n",
      "  [255 255 255 255]\n",
      "  [255 255 255 255]\n",
      "  [255 255 255 255]\n",
      "  [255 255 255 255]]\n",
      "\n",
      " [[255 255 255 255]\n",
      "  [255 255 255 255]\n",
      "  [255 255 255 255]\n",
      "  [255 255 255 255]\n",
      "  [255 255 255 255]\n",
      "  [255 255 255 255]]]\n"
     ]
    }
   ],
   "source": [
    "import mylib\n",
    "\n",
    "print('-'*50)"
   ]
  }
 ],
 "metadata": {
  "kernelspec": {
   "display_name": "Python 3 (ipykernel)",
   "language": "python",
   "name": "python3"
  },
  "language_info": {
   "codemirror_mode": {
    "name": "ipython",
    "version": 3
   },
   "file_extension": ".py",
   "mimetype": "text/x-python",
   "name": "python",
   "nbconvert_exporter": "python",
   "pygments_lexer": "ipython3",
   "version": "3.9.0"
  }
 },
 "nbformat": 4,
 "nbformat_minor": 5
}
