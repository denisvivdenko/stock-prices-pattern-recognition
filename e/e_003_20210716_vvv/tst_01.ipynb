{
 "cells": [
  {
   "cell_type": "code",
   "execution_count": 1,
   "id": "f46eed37",
   "metadata": {},
   "outputs": [
    {
     "name": "stdout",
     "output_type": "stream",
     "text": [
      "#000 -> [0, 1, 2, 3]>[1, 2, 3, 3] | k = 1.732\n",
      "#001 -> [1, 2, 3, 3]>[2, 3, 3, 1] | k = 2.449\n",
      "#002 -> [2, 3, 3, 1]>[3, 3, 1, 14] | k = 13.191\n",
      "#003 -> [3, 3, 1, 14]>[3, 1, 14, 15] | k = 13.191\n",
      "#004 -> [3, 1, 14, 15]>[1, 14, 15, 1] | k = 19.235\n",
      "#005 -> [1, 14, 15, 1]>[14, 15, 1, 2] | k = 19.157\n",
      "#006 -> [14, 15, 1, 2]>[15, 1, 2, 2] | k = 14.071\n",
      "#007 -> [15, 1, 2, 2]>[1, 2, 2, 10] | k = 16.155\n"
     ]
    }
   ],
   "source": [
    "from lib_correlation import *\n",
    "step = 4\n",
    "all_series = [0, 1, 2, 3, 3, 1, 14, 15, 1, 2, 2, 10, 7]\n",
    "a = []\n",
    "for i in range(len(all_series) - step):\n",
    "    a.append(all_series[i:i+step])\n",
    "    \n",
    "for i in range(len(a) - 1):\n",
    "    print('#{:03d} -> {}>{} | k = {:0.03f}'.format(i, a[i], a[i + 1], getCorrelationStumpy(a[i], a[i + 1])))"
   ]
  }
 ],
 "metadata": {
  "kernelspec": {
   "display_name": "Python 3 (ipykernel)",
   "language": "python",
   "name": "python3"
  },
  "language_info": {
   "codemirror_mode": {
    "name": "ipython",
    "version": 3
   },
   "file_extension": ".py",
   "mimetype": "text/x-python",
   "name": "python",
   "nbconvert_exporter": "python",
   "pygments_lexer": "ipython3",
   "version": "3.9.0"
  }
 },
 "nbformat": 4,
 "nbformat_minor": 5
}
