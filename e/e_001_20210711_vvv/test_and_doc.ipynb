{
 "cells": [
  {
   "cell_type": "markdown",
   "id": "80f7171b",
   "metadata": {},
   "source": [
    "---\n",
    "## Тестуємо нейромережу SOM\n",
    "1. Ініціалізація параметрів\n",
    "    - за замовчуванням мережа 10 на 10 із 2000 епох\n",
    "2. Підготовка даних для нейромережі\n",
    "    - окремо масив із назвами патернів і окремо масив із даними. Потім можна реалізувати конкретно під panda\n",
    "3. Генерація масиву нейронів\n",
    "4. Підготовка даних для відправки у SOM\n",
    "    - нормалізація даних\n",
    "5. Тренування\n",
    "5. Пошук класу, до якого належить навчальний приклад\n",
    "---"
   ]
  },
  {
   "cell_type": "code",
   "execution_count": 1,
   "id": "3ea65819",
   "metadata": {},
   "outputs": [
    {
     "name": "stdout",
     "output_type": "stream",
     "text": [
      "Мережа 5 на 5 нейронів.\n",
      "Кількість епох для обробки -> 2000\n",
      "Початковий радіус околиці -> 2.500000000\n",
      "r_time_constant -> 2182.713335875\n",
      "Початковий коефіцієнт навчання (ступінь впливу на зміну вагів нейронів) -> 0.100000000\n"
     ]
    }
   ],
   "source": [
    "# 1 ------------------------------------------------------------\n",
    "from NN_SOM import NN_SOM as som\n",
    "import random, copy\n",
    "\n",
    "x_cells = 5\n",
    "y_cells = 5\n",
    "all_iterations = 2000\n",
    "num_random_train_pattern = 100\n",
    "num_real_weights_in_pattern = 5\n",
    "a_name = [] # масив імен\n",
    "a_real = [] # масив навчальних даних\n",
    "\n",
    "# nn = som()\n",
    "nn = som(x_cells, y_cells, all_iterations)\n",
    "print('Мережа {} на {} нейронів.'.format(nn.i_x_cells, nn.i_y_cells))\n",
    "print('Кількість епох для обробки -> {}'.format(nn.i_iterations))\n",
    "print('Початковий радіус околиці -> {:0.09f}'.format(nn.r_map_radius))\n",
    "print('r_time_constant -> {:0.09f}'.format(nn.r_time_constant))\n",
    "print('Початковий коефіцієнт навчання (ступінь впливу на зміну вагів нейронів) -> {:0.09f}'.format(nn.r_initial_learning_rate))"
   ]
  },
  {
   "cell_type": "code",
   "execution_count": 2,
   "id": "78f60ef0",
   "metadata": {},
   "outputs": [],
   "source": [
    "# 2 ------------------------------------------------------------\n",
    "# a_name - окремо одновимірний масив імен навчальних прикладів/паттернів\n",
    "# a_real - окремо двовимірний масив реальних значень. Це мають бути значення із навчальних прикладів\n",
    "# як хочеш, так і подаєш дані\n",
    "for i in range(num_random_train_pattern):\n",
    "    a_name.append(f'{i}')\n",
    "    a_real.append([random.random() for i in range(num_real_weights_in_pattern)])"
   ]
  },
  {
   "cell_type": "code",
   "execution_count": 3,
   "id": "57af3318",
   "metadata": {},
   "outputs": [],
   "source": [
    "# 3 ------------------------------------------------------------\n",
    "# повертаємо масив із об'єктів класа NN_SOM_Neuron\n",
    "ns = nn.setInitParam(a_real)\n",
    "ns_old = copy.deepcopy(ns)"
   ]
  },
  {
   "cell_type": "code",
   "execution_count": 5,
   "id": "bd7550c3",
   "metadata": {},
   "outputs": [
    {
     "name": "stdout",
     "output_type": "stream",
     "text": [
      "--------------------\n",
      "[0.9950612292221281, 0.3344816994780626, 0.6938870173698785, 0.8873322293260142, 0.2597857683769994]\n",
      "[1.0, 0.10158904394171864, 0.5903926788117221, 0.8534848425754753, 0.0]\n",
      "--------------------\n",
      "[0.5878906342301815, 0.8875540303826196, 0.31040387225267707, 0.8282418454103314, 0.4457755109288192]\n",
      "[0.48078781244140223, 1.0, 0.0, 0.8972326627017326, 0.2345518523546239]\n",
      "--------------------\n",
      "[0.8116854747692941, 0.05641739785176658, 0.9955139788245124, 0.7851984933009886, 0.9718171094189826]\n",
      "[0.8042496290798941, 0.0, 1.0, 0.7760448820869176, 0.9747663127673366]\n"
     ]
    }
   ],
   "source": [
    "# 4 ------------------------------------------------------------\n",
    "# нормалізація даних та вивід на екран перших 3ох результатів\n",
    "a_real_normalize = nn.getNormalizeDataRow(a_real)\n",
    "for i in range(3):\n",
    "    print('-'*20)\n",
    "    print(a_real[i])\n",
    "    print(a_real_normalize[i])"
   ]
  },
  {
   "cell_type": "code",
   "execution_count": 6,
   "id": "e68708ef",
   "metadata": {},
   "outputs": [],
   "source": [
    "# 5 ------------------------------------------------------------\n",
    "# Повне навчання\n",
    "ns_new = nn.TrainAll(ns, a_real_normalize)"
   ]
  },
  {
   "cell_type": "code",
   "execution_count": 7,
   "id": "859479d2",
   "metadata": {},
   "outputs": [
    {
     "name": "stdout",
     "output_type": "stream",
     "text": [
      "\n",
      "#000 ------------------------------\n",
      "Старі дані\n",
      "[0.5303161367105572, 0.9219390106684294, 0.43626432846143703, 0.0877490279062424, 0.2805616785915158]\n",
      "Нові дані\n",
      "[0.5551858937802338, 0.4350992750832759, 0.48135650227867294, 0.5002658126309885, 0.4580268590389743]\n",
      "\n",
      "#001 ------------------------------\n",
      "Старі дані\n",
      "[0.029633843977868946, 0.7247742776079393, 0.7614615962179566, 0.28175627668951797, 0.17556444238631075]\n",
      "Нові дані\n",
      "[0.5551858937802338, 0.4350992750832759, 0.48135650227867294, 0.5002658126309885, 0.4580268590389743]\n",
      "\n",
      "#002 ------------------------------\n",
      "Старі дані\n",
      "[0.8127685846263615, 0.1501572315160289, 0.3176718538097498, 0.956524236570537, 0.554760359460407]\n",
      "Нові дані\n",
      "[0.5551858937802338, 0.4350992750832759, 0.48135650227867294, 0.5002658126309885, 0.4580268590389743]\n"
     ]
    }
   ],
   "source": [
    "# print all weights --------------------------------------------\n",
    "for i in range(len(ns_new)):\n",
    "    print('\\n#{:03d} {}'.format(i, '-'*30))\n",
    "    print('Старі дані')\n",
    "    print(ns_old[i].a_weights)\n",
    "    print('Нові дані')\n",
    "    print(ns_new[i].a_weights)\n",
    "    if i >= 2:\n",
    "        break\n",
    "# print all weights --------------------------------------------"
   ]
  },
  {
   "cell_type": "code",
   "execution_count": 8,
   "id": "eab1d6db",
   "metadata": {},
   "outputs": [
    {
     "name": "stdout",
     "output_type": "stream",
     "text": [
      "0\n",
      "[1.0, 0.10158904394171864, 0.5903926788117221, 0.8534848425754753, 0.0]\n",
      "2\n",
      "0\n"
     ]
    }
   ],
   "source": [
    "print(a_name[0])\n",
    "print(a_real_normalize[0])\n",
    "a_1 = a_real_normalize[0]\n",
    "# first train ----------------------------\n",
    "tmp_min_ind = 0\n",
    "tmp_min_dist = ns_old[0].getCalculateDistance(a_1)\n",
    "for i in range(1, len(ns_old)):\n",
    "    tmp1 = ns_old[i].getCalculateDistance(a_1)\n",
    "    #print('#{} -> {:0.05f}'.format(i, tmp1))\n",
    "    if tmp1 < tmp_min_dist:\n",
    "        tmp_min_dist = tmp1\n",
    "        tmp_min_ind = i\n",
    "print(tmp_min_ind)\n",
    "\n",
    "# last train ----------------------------\n",
    "tmp_min_ind = 0\n",
    "tmp_min_dist = ns_new[0].getCalculateDistance(a_1)\n",
    "for i in range(1, len(ns_new)):\n",
    "    tmp1 = ns_new[i].getCalculateDistance(a_1)\n",
    "    #print('#{} -> {:0.05f}'.format(i, tmp1))\n",
    "    if tmp1 < tmp_min_dist:\n",
    "        tmp_min_dist = tmp1\n",
    "        tmp_min_ind = i\n",
    "print(tmp_min_ind)"
   ]
  },
  {
   "cell_type": "code",
   "execution_count": 9,
   "id": "ae532984",
   "metadata": {},
   "outputs": [
    {
     "name": "stdout",
     "output_type": "stream",
     "text": [
      "Навчальний приклад \"0\" -> [1.0, 0.10158904394171864, 0.5903926788117221, 0.8534848425754753, 0.0]\n",
      "Перед початком тренування цей паттерн відносився до класу #02\n",
      "Після тренування цей паттерн став відноситись до класу #00\n"
     ]
    }
   ],
   "source": [
    "# 6 ------------------------------------------------------------\n",
    "# Дістаємо усю інформацію, яка відноситься до певного навчального прикладу\n",
    "num_research_pattern = 0\n",
    "research_pattern_name = a_name[num_research_pattern]\n",
    "research_pattern_real = a_real_normalize[num_research_pattern]\n",
    "num_class_old = nn.getBestMatchingNode(ns_old, research_pattern_real)\n",
    "num_class_new = nn.getBestMatchingNode(ns_new, research_pattern_real)\n",
    "print('Навчальний приклад \"{}\" -> '.format(research_pattern_name), end=\"\")\n",
    "print(research_pattern_real)\n",
    "print('Перед початком тренування цей паттерн відносився до класу #{:02d}'.format(num_class_old))\n",
    "print('Після тренування цей паттерн став відноситись до класу #{:02d}'.format(num_class_new))"
   ]
  },
  {
   "cell_type": "code",
   "execution_count": 10,
   "id": "9a3376a9",
   "metadata": {},
   "outputs": [
    {
     "name": "stdout",
     "output_type": "stream",
     "text": [
      "#00: 002 -> 000\n",
      "#01: 013 -> 000\n",
      "#02: 022 -> 000\n",
      "#03: 023 -> 000\n",
      "#04: 023 -> 000\n",
      "#05: 010 -> 000\n",
      "#06: 023 -> 000\n",
      "#07: 013 -> 000\n",
      "#08: 002 -> 000\n",
      "#09: 014 -> 000\n",
      "#10: 003 -> 000\n"
     ]
    }
   ],
   "source": [
    "for i in range(len(a_name)):\n",
    "    nbmn_old = nn.getBestMatchingNode(ns_old, a_real_normalize[i])\n",
    "    nbmn_new = nn.getBestMatchingNode(ns_new, a_real_normalize[i])\n",
    "    print('#{:02d}: {:03d} -> {:03d}'.format(i, nbmn_old, nbmn_new))\n",
    "    if i >= 10:\n",
    "        break"
   ]
  },
  {
   "cell_type": "code",
   "execution_count": null,
   "id": "df9cf2e1",
   "metadata": {},
   "outputs": [],
   "source": []
  }
 ],
 "metadata": {
  "kernelspec": {
   "display_name": "Python 3",
   "language": "python",
   "name": "python3"
  },
  "language_info": {
   "codemirror_mode": {
    "name": "ipython",
    "version": 3
   },
   "file_extension": ".py",
   "mimetype": "text/x-python",
   "name": "python",
   "nbconvert_exporter": "python",
   "pygments_lexer": "ipython3",
   "version": "3.9.0"
  }
 },
 "nbformat": 4,
 "nbformat_minor": 5
}
