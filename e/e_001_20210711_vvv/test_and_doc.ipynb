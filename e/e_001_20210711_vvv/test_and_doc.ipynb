{
 "cells": [
  {
   "cell_type": "markdown",
   "id": "80f7171b",
   "metadata": {},
   "source": [
    "---\n",
    "## Тестуємо нейромережу SOM\n",
    "1. Ініціалізація параметрів\n",
    "    - за замовчуванням мережа 10 на 10 із 2000 епох\n",
    "2. Підготовка даних для нейромережі\n",
    "    - окремо масив із назвами патернів і окремо масив із даними. Потім можна реалізувати конкретно під panda\n",
    "3. Генерація масиву нейронів\n",
    "4. Підготовка даних для відправки у SOM\n",
    "    - нормалізація даних\n",
    "5. Тренування\n",
    "5. Пошук класу, до якого належить навчальний приклад\n",
    "---"
   ]
  },
  {
   "cell_type": "code",
   "execution_count": 1,
   "id": "3ea65819",
   "metadata": {},
   "outputs": [
    {
     "name": "stdout",
     "output_type": "stream",
     "text": [
      "Мережа 5 на 5 нейронів.\n",
      "Кількість епох для обробки -> 2000\n",
      "Початковий радіус околиці -> 2.500000000\n",
      "r_time_constant -> 2182.713335875\n",
      "Початковий коефіцієнт навчання (ступінь впливу на зміну вагів нейронів) -> 0.100000000\n"
     ]
    }
   ],
   "source": [
    "# 1 ------------------------------------------------------------\n",
    "from NN_SOM import NN_SOM as som\n",
    "import random, copy\n",
    "\n",
    "x_cells = 5\n",
    "y_cells = 5\n",
    "all_iterations = 2000\n",
    "num_random_train_pattern = 100\n",
    "num_real_weights_in_pattern = 5\n",
    "a_name = [] # масив імен\n",
    "a_real = [] # масив навчальних даних\n",
    "\n",
    "# nn = som()\n",
    "nn = som(x_cells, y_cells, all_iterations)\n",
    "print('Мережа {} на {} нейронів.'.format(nn.i_x_cells, nn.i_y_cells))\n",
    "print('Кількість епох для обробки -> {}'.format(nn.i_iterations))\n",
    "print('Початковий радіус околиці -> {:0.09f}'.format(nn.r_map_radius))\n",
    "print('r_time_constant -> {:0.09f}'.format(nn.r_time_constant))\n",
    "print('Початковий коефіцієнт навчання (ступінь впливу на зміну вагів нейронів) -> {:0.09f}'.format(nn.r_initial_learning_rate))"
   ]
  },
  {
   "cell_type": "code",
   "execution_count": 2,
   "id": "78f60ef0",
   "metadata": {},
   "outputs": [],
   "source": [
    "# 2 ------------------------------------------------------------\n",
    "# a_name - окремо одновимірний масив імен навчальних прикладів/паттернів\n",
    "# a_real - окремо двовимірний масив реальних значень. Це мають бути значення із навчальних прикладів\n",
    "# як хочеш, так і подаєш дані\n",
    "for i in range(num_random_train_pattern):\n",
    "    a_name.append(f'{i}')\n",
    "    a_real.append([random.random() for i in range(num_real_weights_in_pattern)])"
   ]
  },
  {
   "cell_type": "code",
   "execution_count": 3,
   "id": "57af3318",
   "metadata": {},
   "outputs": [],
   "source": [
    "# 3 ------------------------------------------------------------\n",
    "# повертаємо масив із об'єктів класа NN_SOM_Neuron\n",
    "ns = nn.setInitParam(a_real)\n",
    "ns_old = copy.deepcopy(ns)"
   ]
  },
  {
   "cell_type": "code",
   "execution_count": 4,
   "id": "bd7550c3",
   "metadata": {},
   "outputs": [
    {
     "name": "stdout",
     "output_type": "stream",
     "text": [
      "--------------------\n",
      "[0.8923119378749863, 0.6068191543256538, 0.4158987240170724, 0.7036776356293815, 0.5213370494339188]\n",
      "[1.0, 0.40074545532131645, 0.0, 0.6040531690586916, 0.22131696256496455]\n",
      "--------------------\n",
      "[0.02313867448979745, 0.16751577076641555, 0.08490820516020992, 0.5324680986886301, 0.26350129318411264]\n",
      "[0.0, 0.2834650609548448, 0.12127618734687277, 1.0, 0.47191975816516374]\n",
      "--------------------\n",
      "[0.7815473677110635, 0.7658129725416312, 0.6770218107765197, 0.4842009520002952, 0.19970754938381263]\n",
      "[1.0, 0.9729575139517478, 0.8203533796723512, 0.48895485261627747, 0.0]\n"
     ]
    }
   ],
   "source": [
    "# 4 ------------------------------------------------------------\n",
    "# нормалізація даних та вивід на екран перших 3ох результатів\n",
    "a_real_normalize = nn.getNormalizeDataRow(a_real)\n",
    "for i in range(3):\n",
    "    print('-'*20)\n",
    "    print(a_real[i])\n",
    "    print(a_real_normalize[i])"
   ]
  },
  {
   "cell_type": "code",
   "execution_count": 5,
   "id": "e68708ef",
   "metadata": {},
   "outputs": [],
   "source": [
    "# 5 ------------------------------------------------------------\n",
    "# Повне навчання\n",
    "ns_new = nn.TrainAll(ns, a_real_normalize)"
   ]
  },
  {
   "cell_type": "code",
   "execution_count": 6,
   "id": "859479d2",
   "metadata": {},
   "outputs": [
    {
     "name": "stdout",
     "output_type": "stream",
     "text": [
      "\n",
      "#000 ------------------------------\n",
      "Старі дані\n",
      "[0.8997852504667961, 0.37295276257162613, 0.4414850754917298, 0.8785077950061783, 0.5023362373473697]\n",
      "Нові дані\n",
      "[0.256759273857968, 0.7577914006526304, 0.09493113163465433, 0.32047097047061607, 0.828451249897021]\n",
      "\n",
      "#001 ------------------------------\n",
      "Старі дані\n",
      "[0.5779092624996187, 0.6477281592185389, 0.45499237495727574, 0.8433220774339537, 0.39073798654627745]\n",
      "Нові дані\n",
      "[0.16657562556171265, 0.4611487533631842, 0.13416686070096845, 0.6108667312524425, 0.9229474885954448]\n",
      "\n",
      "#002 ------------------------------\n",
      "Старі дані\n",
      "[0.43107678798030913, 0.7112953712256148, 0.3322781800489253, 0.7357270540941405, 0.9324929303528721]\n",
      "Нові дані\n",
      "[0.07333345146716441, 0.2299501739157553, 0.3076758639307979, 0.7822711687236787, 0.8834832435990869]\n"
     ]
    }
   ],
   "source": [
    "# print all weights --------------------------------------------\n",
    "for i in range(len(ns_new)):\n",
    "    print('\\n#{:03d} {}'.format(i, '-'*30))\n",
    "    print('Старі дані')\n",
    "    print(ns_old[i].a_weights)\n",
    "    print('Нові дані')\n",
    "    print(ns_new[i].a_weights)\n",
    "    if i >= 2:\n",
    "        break\n",
    "# print all weights --------------------------------------------"
   ]
  },
  {
   "cell_type": "code",
   "execution_count": 7,
   "id": "eab1d6db",
   "metadata": {},
   "outputs": [
    {
     "name": "stdout",
     "output_type": "stream",
     "text": [
      "0\n",
      "[1.0, 0.40074545532131645, 0.0, 0.6040531690586916, 0.22131696256496455]\n",
      "8\n",
      "23\n"
     ]
    }
   ],
   "source": [
    "print(a_name[0])\n",
    "print(a_real_normalize[0])\n",
    "a_1 = a_real_normalize[0]\n",
    "# first train ----------------------------\n",
    "tmp_min_ind = 0\n",
    "tmp_min_dist = ns_old[0].getCalculateDistance(a_1)\n",
    "for i in range(1, len(ns_old)):\n",
    "    tmp1 = ns_old[i].getCalculateDistance(a_1)\n",
    "    #print('#{} -> {:0.05f}'.format(i, tmp1))\n",
    "    if tmp1 < tmp_min_dist:\n",
    "        tmp_min_dist = tmp1\n",
    "        tmp_min_ind = i\n",
    "print(tmp_min_ind)\n",
    "\n",
    "# last train ----------------------------\n",
    "tmp_min_ind = 0\n",
    "tmp_min_dist = ns_new[0].getCalculateDistance(a_1)\n",
    "for i in range(1, len(ns_new)):\n",
    "    tmp1 = ns_new[i].getCalculateDistance(a_1)\n",
    "    #print('#{} -> {:0.05f}'.format(i, tmp1))\n",
    "    if tmp1 < tmp_min_dist:\n",
    "        tmp_min_dist = tmp1\n",
    "        tmp_min_ind = i\n",
    "print(tmp_min_ind)"
   ]
  },
  {
   "cell_type": "code",
   "execution_count": 8,
   "id": "ae532984",
   "metadata": {},
   "outputs": [
    {
     "name": "stdout",
     "output_type": "stream",
     "text": [
      "Навчальний приклад \"0\" -> [1.0, 0.40074545532131645, 0.0, 0.6040531690586916, 0.22131696256496455]\n",
      "Перед початком тренування цей паттерн відносився до класу #08\n",
      "Після тренування цей паттерн став відноситись до класу #23\n"
     ]
    }
   ],
   "source": [
    "# 6 ------------------------------------------------------------\n",
    "# Дістаємо усю інформацію, яка відноситься до певного навчального прикладу\n",
    "num_research_pattern = 0\n",
    "research_pattern_name = a_name[num_research_pattern]\n",
    "research_pattern_real = a_real_normalize[num_research_pattern]\n",
    "num_class_old = nn.getBestMatchingNode(ns_old, research_pattern_real)\n",
    "num_class_new = nn.getBestMatchingNode(ns_new, research_pattern_real)\n",
    "print('Навчальний приклад \"{}\" -> '.format(research_pattern_name), end=\"\")\n",
    "print(research_pattern_real)\n",
    "print('Перед початком тренування цей паттерн відносився до класу #{:02d}'.format(num_class_old))\n",
    "print('Після тренування цей паттерн став відноситись до класу #{:02d}'.format(num_class_new))"
   ]
  },
  {
   "cell_type": "code",
   "execution_count": 9,
   "id": "9a3376a9",
   "metadata": {},
   "outputs": [
    {
     "name": "stdout",
     "output_type": "stream",
     "text": [
      "#00: 008 -> 023\n",
      "#01: 016 -> 002\n",
      "#02: 006 -> 022\n",
      "#03: 023 -> 016\n",
      "#04: 007 -> 002\n",
      "#05: 019 -> 018\n",
      "#06: 016 -> 020\n",
      "#07: 011 -> 019\n",
      "#08: 016 -> 003\n",
      "#09: 010 -> 012\n",
      "#10: 016 -> 020\n"
     ]
    }
   ],
   "source": [
    "for i in range(len(a_name)):\n",
    "    nbmn_old = nn.getBestMatchingNode(ns_old, a_real_normalize[i])\n",
    "    nbmn_new = nn.getBestMatchingNode(ns_new, a_real_normalize[i])\n",
    "    print('#{:02d}: {:03d} -> {:03d}'.format(i, nbmn_old, nbmn_new))\n",
    "    if i >= 10:\n",
    "        break"
   ]
  },
  {
   "cell_type": "code",
   "execution_count": null,
   "id": "df9cf2e1",
   "metadata": {},
   "outputs": [],
   "source": []
  }
 ],
 "metadata": {
  "kernelspec": {
   "display_name": "Python 3 (ipykernel)",
   "language": "python",
   "name": "python3"
  },
  "language_info": {
   "codemirror_mode": {
    "name": "ipython",
    "version": 3
   },
   "file_extension": ".py",
   "mimetype": "text/x-python",
   "name": "python",
   "nbconvert_exporter": "python",
   "pygments_lexer": "ipython3",
   "version": "3.9.0"
  }
 },
 "nbformat": 4,
 "nbformat_minor": 5
}
