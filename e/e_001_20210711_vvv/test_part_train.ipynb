{
 "cells": [
  {
   "cell_type": "markdown",
   "id": "934a3b1f",
   "metadata": {},
   "source": [
    "# Тестуємо функцію часткового тренування\n",
    "Цю функцію треба використовувати, коли є потреба вивчити роботу нейромережі на окремих етапах. Ця функція запускає алгоритм тренування лише 1 раз. Можна реалізувати через цикл, щоб виконання було таке ж саме, як і з повноцінною функцією тренування"
   ]
  },
  {
   "cell_type": "code",
   "execution_count": 1,
   "id": "9da24896",
   "metadata": {},
   "outputs": [
    {
     "name": "stdout",
     "output_type": "stream",
     "text": [
      "pattern #1877 is 9 class\n",
      "pattern #1139 is 44 class\n",
      "pattern #0452 is 5 class\n",
      "pattern #0949 is 72 class\n",
      "pattern #0611 is 49 class\n",
      "pattern #1565 is 35 class\n",
      "pattern #1039 is 29 class\n",
      "pattern #0126 is 29 class\n",
      "pattern #0064 is 8 class\n",
      "pattern #0825 is 50 class\n",
      "pattern #0365 is 92 class\n",
      "pattern #1082 is 5 class\n",
      "pattern #1639 is 79 class\n",
      "pattern #2377 is 60 class\n",
      "pattern #2422 is 39 class\n",
      "pattern #2110 is 5 class\n",
      "pattern #2052 is 35 class\n",
      "pattern #0843 is 90 class\n",
      "pattern #1518 is 83 class\n",
      "pattern #0564 is 42 class\n"
     ]
    }
   ],
   "source": [
    "from NN_SOM import NN_SOM as som\n",
    "import random, copy\n",
    "\n",
    "num_random_train_pattern = 3000\n",
    "num_real_weights_in_pattern = 10\n",
    "a_name = [] # масив імен\n",
    "a_real = [] # масив навчальних даних\n",
    "\n",
    "# 1 create neural\n",
    "Neural_Network = som(10, 10, 5000)\n",
    "\n",
    "# 2 create data array\n",
    "for i in range(num_random_train_pattern):\n",
    "    a_name.append(f'{i}')\n",
    "    a_real.append([random.random() for i in range(num_real_weights_in_pattern)])\n",
    "\n",
    "# 3 initialize neurals class\n",
    "array_Neurons = Neural_Network.setInitParam(a_real)\n",
    "\n",
    "# 4 normalize data for row\n",
    "a_real_normalize = Neural_Network.getNormalizeDataRow(a_real)\n",
    "#a_real_normalize = Neural_Network.getNormalizeDataColumn(a_real)\n",
    "\n",
    "# 5 part train\n",
    "for i in range(Neural_Network.i_iterations):\n",
    "    random_pattern = a_real_normalize[random.randint(0, len(a_real_normalize) - 1)]\n",
    "    array_Neurons = Neural_Network.TrainPart(array_Neurons, random_pattern)\n",
    "    \n",
    "# 6 show class\n",
    "for i in range(20):\n",
    "    num_random = random.randint(0, len(a_real_normalize) - 1)\n",
    "    random_pattern = a_real_normalize[num_random]\n",
    "    num_winNode = Neural_Network.getBestMatchingNode(array_Neurons, random_pattern)\n",
    "    print('pattern #{:04d} is {} class'.format(num_random, num_winNode))"
   ]
  }
 ],
 "metadata": {
  "kernelspec": {
   "display_name": "Python 3 (ipykernel)",
   "language": "python",
   "name": "python3"
  },
  "language_info": {
   "codemirror_mode": {
    "name": "ipython",
    "version": 3
   },
   "file_extension": ".py",
   "mimetype": "text/x-python",
   "name": "python",
   "nbconvert_exporter": "python",
   "pygments_lexer": "ipython3",
   "version": "3.9.0"
  }
 },
 "nbformat": 4,
 "nbformat_minor": 5
}
