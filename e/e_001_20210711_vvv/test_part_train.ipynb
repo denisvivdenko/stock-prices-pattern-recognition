{
 "cells": [
  {
   "cell_type": "markdown",
   "id": "934a3b1f",
   "metadata": {},
   "source": [
    "# Тестуємо функцію часткового тренування\n",
    "Цю функцію треба використовувати, коли є потреба вивчити роботу нейромережі на окремих етапах. Ця функція запускає алгоритм тренування лише 1 раз. Можна реалізувати через цикл, щоб виконання було таке ж саме, як і з повноцінною функцією тренування"
   ]
  },
  {
   "cell_type": "code",
   "execution_count": 1,
   "id": "9da24896",
   "metadata": {},
   "outputs": [
    {
     "name": "stdout",
     "output_type": "stream",
     "text": [
      "pattern #0535 is 50 class\n",
      "pattern #0983 is 95 class\n",
      "pattern #1868 is 24 class\n",
      "pattern #2799 is 10 class\n",
      "pattern #1102 is 59 class\n",
      "pattern #2835 is 17 class\n",
      "pattern #0959 is 89 class\n",
      "pattern #1103 is 2 class\n",
      "pattern #0314 is 40 class\n",
      "pattern #1963 is 90 class\n",
      "pattern #0618 is 28 class\n",
      "pattern #0673 is 80 class\n",
      "pattern #0011 is 13 class\n",
      "pattern #0645 is 87 class\n",
      "pattern #0474 is 18 class\n",
      "pattern #0217 is 23 class\n",
      "pattern #2105 is 50 class\n",
      "pattern #2259 is 69 class\n",
      "pattern #0367 is 45 class\n",
      "pattern #2045 is 18 class\n"
     ]
    }
   ],
   "source": [
    "from NN_SOM import NN_SOM as som\n",
    "import random, copy\n",
    "\n",
    "num_random_train_pattern = 3000\n",
    "num_real_weights_in_pattern = 10\n",
    "a_name = [] # масив імен\n",
    "a_real = [] # масив навчальних даних\n",
    "\n",
    "# 1 create neural\n",
    "Neural_Network = som(10, 10, 5000)\n",
    "\n",
    "# 2 create data array\n",
    "for i in range(num_random_train_pattern):\n",
    "    a_name.append(f'{i}')\n",
    "    a_real.append([random.random() for i in range(num_real_weights_in_pattern)])\n",
    "\n",
    "# 3 initialize neurals class\n",
    "array_Neurons = Neural_Network.setInitParam(a_real)\n",
    "\n",
    "# 4 normalize data for row\n",
    "a_real_normalize = Neural_Network.getNormalizeDataRow(a_real)\n",
    "#a_real_normalize = Neural_Network.getNormalizeDataColumn(a_real)\n",
    "\n",
    "# 5 part train\n",
    "for i in range(Neural_Network.i_iterations):\n",
    "    random_pattern = a_real_normalize[random.randint(0, len(a_real_normalize) - 1)]\n",
    "    array_Neurons = Neural_Network.TrainPart(array_Neurons, random_pattern)\n",
    "    \n",
    "# 6 show class\n",
    "for i in range(20):\n",
    "    num_random = random.randint(0, len(a_real_normalize) - 1)\n",
    "    random_pattern = a_real_normalize[num_random]\n",
    "    num_winNode = Neural_Network.getBestMatchingNode(array_Neurons, random_pattern)\n",
    "    print('pattern #{:04d} is {} class'.format(num_random, num_winNode))"
   ]
  }
 ],
 "metadata": {
  "kernelspec": {
   "display_name": "Python 3 (ipykernel)",
   "language": "python",
   "name": "python3"
  },
  "language_info": {
   "codemirror_mode": {
    "name": "ipython",
    "version": 3
   },
   "file_extension": ".py",
   "mimetype": "text/x-python",
   "name": "python",
   "nbconvert_exporter": "python",
   "pygments_lexer": "ipython3",
   "version": "3.9.0"
  }
 },
 "nbformat": 4,
 "nbformat_minor": 5
}
